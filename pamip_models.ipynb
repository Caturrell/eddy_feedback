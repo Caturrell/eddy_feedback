{
 "cells": [
  {
   "cell_type": "code",
   "execution_count": 2,
   "id": "17a9118a",
   "metadata": {},
   "outputs": [],
   "source": [
    "import xarray as xr\n",
    "import os"
   ]
  },
  {
   "cell_type": "code",
   "execution_count": null,
   "id": "e23e0141",
   "metadata": {},
   "outputs": [],
   "source": [
    "path = '/home/links/ct715/data_storage/PAMIP/processed_monthly/regridded_3x3/1.1_pdSST-pdSIC'\n",
    "files = os.listdir(path)\n",
    "files = [f for f in files if f.endswith('.nc')]\n",
    "files.sort()\n",
    "model_list = [os.path.basename(f).split('_')[0] for f in files]\n",
    "\n",
    "ds = {}\n",
    "for model in model_list:\n",
    "    dataset = xr.open_mfdataset(os.path.join(path, f'{model}_*.nc'))\n",
    "    ds[model] = dataset"
   ]
  },
  {
   "cell_type": "markdown",
   "id": "5f62698a",
   "metadata": {},
   "source": [
    "## Number of dimensions"
   ]
  },
  {
   "cell_type": "code",
   "execution_count": 16,
   "id": "5d49fe0c",
   "metadata": {},
   "outputs": [
    {
     "name": "stdout",
     "output_type": "stream",
     "text": [
      "CESM1-WACCM-SC: FrozenMappingWarningOnValuesAccess({'time': 3600, 'level': 18, 'lat': 61})\n",
      "CESM2: FrozenMappingWarningOnValuesAccess({'ens_ax': 100, 'time': 12, 'level': 19, 'lat': 61})\n",
      "CNRM-CM6-1: FrozenMappingWarningOnValuesAccess({'ens_ax': 300, 'time': 12, 'level': 23, 'lat': 61})\n",
      "CanESM5: FrozenMappingWarningOnValuesAccess({'ens_ax': 300, 'time': 12, 'level': 19, 'lat': 61})\n",
      "E3SMv1: FrozenMappingWarningOnValuesAccess({'time': 2400, 'level': 18, 'lat': 61})\n",
      "EC-EARTH3: FrozenMappingWarningOnValuesAccess({'ens_ax': 150, 'time': 12, 'level': 19, 'lat': 61})\n",
      "ECHAM6.3: FrozenMappingWarningOnValuesAccess({'ens_ax': 100, 'time': 12, 'level': 19, 'lat': 61})\n",
      "FGOALS-f3-L: FrozenMappingWarningOnValuesAccess({'ens_ax': 100, 'time': 12, 'level': 8, 'lat': 61})\n",
      "HadGEM3-GC31-LL: FrozenMappingWarningOnValuesAccess({'ens_ax': 100, 'time': 12, 'level': 19, 'lat': 61})\n",
      "HadGEM3-GC31-MM: FrozenMappingWarningOnValuesAccess({'ens_ax': 300, 'time': 12, 'level': 19, 'lat': 61})\n",
      "IPSL-CM6A-LR: FrozenMappingWarningOnValuesAccess({'ens_ax': 200, 'time': 12, 'level': 19, 'lat': 61})\n",
      "MIROC6: FrozenMappingWarningOnValuesAccess({'ens_ax': 100, 'time': 12, 'level': 19, 'lat': 61})\n",
      "NorESM2-LM: FrozenMappingWarningOnValuesAccess({'ens_ax': 200, 'time': 12, 'level': 19, 'lat': 61})\n",
      "OpenIFS-159: FrozenMappingWarningOnValuesAccess({'ens_ax': 300, 'time': 12, 'level': 19, 'lat': 61})\n",
      "OpenIFS-511: FrozenMappingWarningOnValuesAccess({'ens_ax': 99, 'time': 12, 'level': 19, 'lat': 61})\n"
     ]
    }
   ],
   "source": [
    "for model in model_list:\n",
    "    dataset = ds[model]\n",
    "    print(f'{model}: {dataset.dims}')"
   ]
  },
  {
   "cell_type": "code",
   "execution_count": null,
   "id": "eaebee98",
   "metadata": {},
   "outputs": [],
   "source": []
  }
 ],
 "metadata": {
  "kernelspec": {
   "display_name": "Python 3",
   "language": "python",
   "name": "python3"
  },
  "language_info": {
   "codemirror_mode": {
    "name": "ipython",
    "version": 3
   },
   "file_extension": ".py",
   "mimetype": "text/x-python",
   "name": "python",
   "nbconvert_exporter": "python",
   "pygments_lexer": "ipython3",
   "version": "3.10.16"
  }
 },
 "nbformat": 4,
 "nbformat_minor": 5
}
