{
 "cells": [
  {
   "cell_type": "code",
   "execution_count": 1,
   "metadata": {},
   "outputs": [],
   "source": [
    "import xarray as xr\n",
    "import matplotlib.pyplot as plt\n",
    "import numpy as np\n",
    "\n",
    "import sys \n",
    "sys.path.append('/home/links/ct715/eddy_feedback/')\n",
    "import functions.data_wrangling as data\n",
    "import functions.eddy_feedback as ef \n",
    "import functions.plotting as plot"
   ]
  },
  {
   "cell_type": "code",
   "execution_count": 2,
   "metadata": {},
   "outputs": [],
   "source": [
    "# delh60 = xr.open_mfdataset('/home/links/ct715/data_storage/isca/held-suarez/HS_T42_10y_60delh/run*/atmos_daily.nc',\n",
    "#                            parallel=True, chunks={'time': 30})\n",
    "# delh60\n",
    "\n",
    "# # subset data and calculate ep fluxes\n",
    "# ds3 = delh60[['ucomp', 'vcomp', 'temp']]\n",
    "# ds3 = ef.calculate_epfluxes_ubar(ds3)\n",
    "# # take final 90 days of data set\n",
    "# ds3 = ds3.isel(time=slice(360, None))\n",
    "# # flip pressure levels\n",
    "# ds3 = ds3.sel(level=slice(None,None,-1))\n",
    "# ds3.to_netcdf('/home/links/ct715/data_storage/isca/held-suarez/HS_T42_10y_60delh_EP.nc')\n"
   ]
  },
  {
   "cell_type": "markdown",
   "metadata": {},
   "source": [
    "## $\\Delta T_{eq} = 60$"
   ]
  },
  {
   "cell_type": "code",
   "execution_count": 3,
   "metadata": {},
   "outputs": [
    {
     "name": "stdout",
     "output_type": "stream",
     "text": [
      "No skip: 0.5825\n",
      "Skip 2: 0.6161\n",
      "Skip 4: 0.6411\n"
     ]
    }
   ],
   "source": [
    "delh60_10y = xr.open_mfdataset('/home/links/ct715/data_storage/isca/held-suarez/HS_T42_10y_60delh_EP.nc',\n",
    "                         parallel=True, chunks={'time': 30})\n",
    "\n",
    "delh60_10y_seasonal = delh60_10y.resample(time='90D').mean()\n",
    "efp_delh60_10y = ef.calculate_efp(delh60_10y_seasonal, data_type='isca')\n",
    "print(f'No skip: {efp_delh60_10y}')\n",
    "\n",
    "delh60_10y_skip2 = delh60_10y_seasonal.isel(time=slice(None, None, 2))\n",
    "efp_delh60_10y_skip2 = ef.calculate_efp(delh60_10y_skip2, data_type='isca')\n",
    "print(f'Skip 2: {efp_delh60_10y_skip2}')\n",
    "\n",
    "delh60_10y_skip4 = delh60_10y_seasonal.isel(time=slice(None, None, 4))\n",
    "efp_delh60_10y_skip4 = ef.calculate_efp(delh60_10y_skip4, data_type='isca')\n",
    "print(f'Skip 4: {efp_delh60_10y_skip4}')\n",
    "\n",
    "# plot.plot_isca_correlation(delh60_10y_seasonal, both_hemis=True)"
   ]
  },
  {
   "cell_type": "markdown",
   "metadata": {},
   "source": [
    "## T42 Topography"
   ]
  },
  {
   "cell_type": "code",
   "execution_count": 5,
   "metadata": {},
   "outputs": [],
   "source": [
    "# ds = xr.open_mfdataset('/home/links/ct715/data_storage/isca/held-suarez/HS_T42_10y_60delh_t42-land/run*/atmos_daily.nc',\n",
    "#                            parallel=True, chunks={'time': 30})\n",
    "\n",
    "# # subset data and calculate ep fluxess\n",
    "# ds = ef.calculate_epfluxes_ubar(ds)\n",
    "# # take final 90 days of data set\n",
    "# ds = ds.isel(time=slice(360, None))\n",
    "# # flip pressure levels\n",
    "# ds = ds.sel(level=slice(None,None,-1))\n",
    "# ds\n",
    "\n",
    "# ds.to_netcdf('/home/links/ct715/data_storage/isca/held-suarez/HS_T42_10y_60delh_t42-land_EP.nc')"
   ]
  },
  {
   "cell_type": "code",
   "execution_count": 12,
   "metadata": {},
   "outputs": [
    {
     "name": "stdout",
     "output_type": "stream",
     "text": [
      "No skip: 0.5825\n",
      "Skip 2: 0.6161\n",
      "Skip 4: 0.6411\n"
     ]
    }
   ],
   "source": [
    "delh60_10y_land = xr.open_mfdataset('/home/links/ct715/data_storage/isca/held-suarez/HS_T42_10y_60delh_t42-land_EP.nc',\n",
    "                         parallel=True, chunks={'time': 30})\n",
    "\n",
    "delh60_10y_land_seasonal = delh60_10y_land.resample(time='90D').mean()\n",
    "efp_delh60_10y_land = ef.calculate_efp(delh60_10y_land_seasonal, data_type='isca')\n",
    "print(f'No skip: {efp_delh60_10y_land}')\n",
    "\n",
    "delh60_10y_land_skip2 = delh60_10y_land_seasonal.isel(time=slice(None, None, 2))\n",
    "efp_delh60_10y_land_skip2 = ef.calculate_efp(delh60_10y_land_skip2, data_type='isca')\n",
    "print(f'Skip 2: {efp_delh60_10y_land_skip2}')\n",
    "\n",
    "delh60_10y_land_skip4 = delh60_10y_land_seasonal.isel(time=slice(None, None, 4))\n",
    "efp_delh60_10y_land_skip4 = ef.calculate_efp(delh60_10y_land_skip4, data_type='isca')\n",
    "print(f'Skip 4: {efp_delh60_10y_land_skip4}')\n",
    "\n",
    "# plot.plot_isca_correlation(delh60_10y_land_seasonal, both_hemis=True)"
   ]
  },
  {
   "cell_type": "code",
   "execution_count": null,
   "metadata": {},
   "outputs": [],
   "source": []
  }
 ],
 "metadata": {
  "kernelspec": {
   "display_name": "eddy",
   "language": "python",
   "name": "python3"
  },
  "language_info": {
   "codemirror_mode": {
    "name": "ipython",
    "version": 3
   },
   "file_extension": ".py",
   "mimetype": "text/x-python",
   "name": "python",
   "nbconvert_exporter": "python",
   "pygments_lexer": "ipython3",
   "version": "3.12.0"
  }
 },
 "nbformat": 4,
 "nbformat_minor": 2
}
