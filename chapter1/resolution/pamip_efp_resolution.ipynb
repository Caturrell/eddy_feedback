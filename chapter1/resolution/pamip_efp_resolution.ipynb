{
 "cells": [
  {
   "cell_type": "code",
   "execution_count": 1,
   "metadata": {},
   "outputs": [],
   "source": [
    "import xarray as xr\n",
    "import numpy as np\n",
    "import pandas as pd\n",
    "\n",
    "import os\n",
    "import functions.eddy_feedback as ef\n",
    "import functions.data_wrangling as data\n",
    "\n",
    "import warnings\n",
    "warnings.filterwarnings(\"ignore\", category=RuntimeWarning, message=\"invalid value encountered in divide\")"
   ]
  },
  {
   "cell_type": "markdown",
   "metadata": {},
   "source": [
    "# CanESM5"
   ]
  },
  {
   "cell_type": "code",
   "execution_count": 2,
   "metadata": {},
   "outputs": [
    {
     "name": "stdout",
     "output_type": "stream",
     "text": [
      "New EFP: 0.4314\n",
      "Old EFP: 0.4516\n"
     ]
    }
   ],
   "source": [
    "CanESM5 = xr.open_mfdataset('/home/links/ct715/data_storage/PAMIP/processed_monthly/CanESM5_1.1_ubar_epfy_divFy.nc',\n",
    "                        parallel=True, chunks={'time': 31})\n",
    "\n",
    "CanESM5_EFP = ef.calculate_efp_pamip(CanESM5, which_div1='divFy')\n",
    "\n",
    "can = CanESM5.where(CanESM5.level < 1000.)\n",
    "can = can.where(can.level > 1.)\n",
    "can = can.where(can.lat > -90.)\n",
    "can = can.where(can.lat < 90)\n",
    "can = can.interp(lat=np.arange(-90,93,3))\n",
    "can = ef.calculate_divFphi(can, save_divFphi='divF')\n",
    "can_EFP = ef.calculate_efp_pamip(can, which_div1='divF')\n",
    "\n",
    "print(f'New EFP: {CanESM5_EFP}\\nOld EFP: {can_EFP}')"
   ]
  },
  {
   "cell_type": "markdown",
   "metadata": {},
   "source": [
    "# CESM1-WACCM-SC"
   ]
  },
  {
   "cell_type": "code",
   "execution_count": 3,
   "metadata": {},
   "outputs": [
    {
     "name": "stdout",
     "output_type": "stream",
     "text": [
      "New EFP: 0.1325\n",
      "Old EFP: 0.1446\n"
     ]
    }
   ],
   "source": [
    "CESM1 = xr.open_mfdataset('/home/links/ct715/data_storage/PAMIP/processed_monthly/CESM1*.nc',\n",
    "                        parallel=True, chunks={'time': 31})\n",
    "\n",
    "CESM1_EFP = ef.calculate_efp_pamip(CESM1, which_div1='divFy')\n",
    "\n",
    "waccm = CESM1.where(CESM1.level < 1000.)\n",
    "waccm = waccm.where(waccm.level > 1.)\n",
    "waccm = waccm.where(waccm.lat > -90.)\n",
    "waccm = waccm.where(waccm.lat < 90)\n",
    "waccm = waccm.interp(lat=np.arange(-90,93,3))\n",
    "waccm = ef.calculate_divFphi(waccm, save_divFphi='divF')\n",
    "waccm_EFP = ef.calculate_efp_pamip(waccm, which_div1='divF')\n",
    "\n",
    "print(f'New EFP: {CESM1_EFP}\\nOld EFP: {waccm_EFP}')"
   ]
  },
  {
   "cell_type": "markdown",
   "metadata": {},
   "source": [
    "# CESM2 "
   ]
  },
  {
   "cell_type": "code",
   "execution_count": 4,
   "metadata": {},
   "outputs": [
    {
     "name": "stdout",
     "output_type": "stream",
     "text": [
      "New EFP: 0.3782\n",
      "Old EFP: 0.4213\n"
     ]
    }
   ],
   "source": [
    "CESM2 = xr.open_mfdataset('/home/links/ct715/data_storage/PAMIP/processed_monthly/CESM2_1.1_ubar_epfy_divFy.nc',\n",
    "                        parallel=True, chunks={'time': 31})\n",
    "\n",
    "CESM2_EFP = ef.calculate_efp_pamip(CESM2, which_div1='divFy')\n",
    "\n",
    "cesm = CESM2.where(CESM2.level < 1000.)\n",
    "cesm = cesm.where(cesm.level > 1.)\n",
    "cesm = cesm.where(cesm.lat > -90.)\n",
    "cesm = cesm.where(cesm.lat < 90)\n",
    "cesm = cesm.interp(lat=np.arange(-90,93,3))\n",
    "cesm = ef.calculate_divFphi(cesm, save_divFphi='divF')\n",
    "cesm_EFP = ef.calculate_efp_pamip(cesm, which_div1='divF')\n",
    "\n",
    "print(f'New EFP: {CESM2_EFP}\\nOld EFP: {cesm_EFP}')"
   ]
  },
  {
   "cell_type": "markdown",
   "metadata": {},
   "source": [
    "# CNRM-CM6-1"
   ]
  },
  {
   "cell_type": "code",
   "execution_count": 5,
   "metadata": {},
   "outputs": [
    {
     "name": "stdout",
     "output_type": "stream",
     "text": [
      "New EFP: 0.2469\n",
      "Old EFP: 0.2819\n"
     ]
    }
   ],
   "source": [
    "# import processed dataset:\n",
    "cnrm_ds = xr.open_mfdataset(\n",
    "    '/home/links/ct715/data_storage/PAMIP/processed_monthly/CNRM-CM6-1_1.1_ubar_epfy_divFy.nc',\n",
    "    parallel=True,\n",
    ")\n",
    "\n",
    "# new method\n",
    "cnrm_EFP = ef.calculate_efp_pamip(cnrm_ds, which_div1='divFy')\n",
    "\n",
    "# old method\n",
    "cnrm_cm6 = cnrm_ds.where(cnrm_ds.level < 1000.)\n",
    "cnrm_cm6 = cnrm_cm6.where(cnrm_cm6.level > 1.)\n",
    "cnrm_cm6 = cnrm_cm6.where(cnrm_cm6.lat > -90.)\n",
    "cnrm_cm6 = cnrm_cm6.where(cnrm_cm6.lat < 90)\n",
    "cnrm_cm6 = cnrm_cm6.interp(lat=np.arange(-90,93,3))\n",
    "cnrm_cm6 = ef.calculate_divFphi(cnrm_cm6, save_divFphi='divF')\n",
    "cnrm_cm6_EFP = ef.calculate_efp_pamip(cnrm_cm6, which_div1='divF')\n",
    "\n",
    "print(f'New EFP: {cnrm_EFP}\\nOld EFP: {cnrm_cm6_EFP}')"
   ]
  },
  {
   "cell_type": "markdown",
   "metadata": {},
   "source": [
    "# E3SMv1"
   ]
  },
  {
   "cell_type": "code",
   "execution_count": 6,
   "metadata": {},
   "outputs": [
    {
     "name": "stdout",
     "output_type": "stream",
     "text": [
      "New EFP: 0.0533\n",
      "Old EFP: 0.0584\n"
     ]
    }
   ],
   "source": [
    "# import processed dataset:\n",
    "e3sm_ds = xr.open_mfdataset(\n",
    "    '/home/links/ct715/data_storage/PAMIP/processed_monthly/E3SMv1_1.1_ubar_epfy_divFy.nc',\n",
    "    parallel=True,\n",
    ")\n",
    "\n",
    "# new method\n",
    "e3sm_EFP = ef.calculate_efp_pamip(e3sm_ds, which_div1='divFy')\n",
    "\n",
    "# old method\n",
    "e3smv1 = e3sm_ds.where(e3sm_ds.level < 1000.)\n",
    "e3smv1 = e3smv1.where(e3smv1.level > 1.)\n",
    "e3smv1 = e3smv1.where(e3smv1.lat > -90.)\n",
    "e3smv1 = e3smv1.where(e3smv1.lat < 90)\n",
    "e3smv1 = e3smv1.interp(lat=np.arange(-90,93,3))\n",
    "e3smv1 = ef.calculate_divFphi(e3smv1, save_divFphi='divF')\n",
    "e3smv1_EFP = ef.calculate_efp_pamip(e3smv1, which_div1='divF')\n",
    "\n",
    "print(f'New EFP: {e3sm_EFP}\\nOld EFP: {e3smv1_EFP}')"
   ]
  },
  {
   "cell_type": "markdown",
   "metadata": {},
   "source": [
    "# EC-EARTH3"
   ]
  },
  {
   "cell_type": "code",
   "execution_count": 7,
   "metadata": {},
   "outputs": [
    {
     "name": "stdout",
     "output_type": "stream",
     "text": [
      "New EFP: 0.3003\n",
      "Old EFP: 0.3538\n"
     ]
    }
   ],
   "source": [
    "# import processed dataset:\n",
    "ec_earth_ds = xr.open_mfdataset(\n",
    "    '/home/links/ct715/data_storage/PAMIP/processed_monthly/EC-EARTH3_1.1_ubar_epfy_divFy.nc',\n",
    "    parallel=True,\n",
    ")\n",
    "\n",
    "# new method\n",
    "ec_earth_EFP = ef.calculate_efp_pamip(ec_earth_ds, which_div1='divFy')\n",
    "\n",
    "# old method\n",
    "earth3 = ec_earth_ds.where(ec_earth_ds.level < 1000.)\n",
    "earth3 = earth3.where(earth3.level > 1.)\n",
    "earth3 = earth3.where(earth3.lat > -90.)\n",
    "earth3 = earth3.where(earth3.lat < 90)\n",
    "earth3 = earth3.interp(lat=np.arange(-90,93,3))\n",
    "earth3 = ef.calculate_divFphi(earth3, save_divFphi='divF')\n",
    "earth3_EFP = ef.calculate_efp_pamip(earth3, which_div1='divF')\n",
    "\n",
    "print(f'New EFP: {ec_earth_EFP}\\nOld EFP: {earth3_EFP}')"
   ]
  },
  {
   "cell_type": "markdown",
   "metadata": {},
   "source": [
    "# ECHAM6.3_AWI"
   ]
  },
  {
   "cell_type": "code",
   "execution_count": 8,
   "metadata": {},
   "outputs": [
    {
     "name": "stdout",
     "output_type": "stream",
     "text": [
      "New EFP: 0.0134\n",
      "Old EFP: 0.0142\n"
     ]
    }
   ],
   "source": [
    "# import processed dataset:\n",
    "echam_ds = xr.open_mfdataset(\n",
    "    '/home/links/ct715/data_storage/PAMIP/processed_monthly/ECHAM6.3_1.1_ubar_epfy_divFy.nc',\n",
    "    parallel=True,\n",
    ")\n",
    "\n",
    "# new method\n",
    "echam_EFP = ef.calculate_efp_pamip(echam_ds, which_div1='divFy')\n",
    "\n",
    "# old method\n",
    "awi = echam_ds.where(echam_ds.level < 1000.)\n",
    "awi = awi.where(awi.level > 1.)\n",
    "awi = awi.where(awi.lat > -90.)\n",
    "awi = awi.where(awi.lat < 90)\n",
    "awi = awi.interp(lat=np.arange(-90,93,3))\n",
    "awi = ef.calculate_divFphi(awi, save_divFphi='divF')\n",
    "awi_EFP = ef.calculate_efp_pamip(awi, which_div1='divF')\n",
    "\n",
    "print(f'New EFP: {echam_EFP}\\nOld EFP: {awi_EFP}')"
   ]
  },
  {
   "cell_type": "markdown",
   "metadata": {},
   "source": [
    "# FGOALS-f3-L"
   ]
  },
  {
   "cell_type": "code",
   "execution_count": 9,
   "metadata": {},
   "outputs": [
    {
     "name": "stdout",
     "output_type": "stream",
     "text": [
      "New EFP: 0.2395\n",
      "Old EFP: 0.2688\n"
     ]
    }
   ],
   "source": [
    "FGOALS = xr.open_mfdataset('/home/links/ct715/data_storage/PAMIP/processed_monthly/FGOALS-f3-L_1.1_ubar_epfy_divFy.nc',\n",
    "                        parallel=True, chunks={'time': 31})\n",
    "\n",
    "FGOALS_EFP = ef.calculate_efp_pamip(FGOALS, which_div1='divFy')\n",
    "\n",
    "fgoals_f3 = FGOALS.where(FGOALS.level < 1000.)\n",
    "fgoals_f3 = fgoals_f3.where(fgoals_f3.level > 1.)\n",
    "fgoals_f3 = fgoals_f3.where(fgoals_f3.lat > -90.)\n",
    "fgoals_f3 = fgoals_f3.where(fgoals_f3.lat < 90)\n",
    "fgoals_f3 = fgoals_f3.interp(lat=np.arange(-90,93,3))\n",
    "fgoals_f3 = ef.calculate_divFphi(fgoals_f3, save_divFphi='divF')\n",
    "fgoals_f3_EFP = ef.calculate_efp_pamip(fgoals_f3, which_div1='divF')\n",
    "\n",
    "print(f'New EFP: {FGOALS_EFP}\\nOld EFP: {fgoals_f3_EFP}')"
   ]
  },
  {
   "cell_type": "markdown",
   "metadata": {},
   "source": [
    "# HadGEM3-GC31-LL"
   ]
  },
  {
   "cell_type": "code",
   "execution_count": 10,
   "metadata": {},
   "outputs": [
    {
     "name": "stdout",
     "output_type": "stream",
     "text": [
      "New EFP: 0.278\n",
      "Old EFP: 0.3216\n"
     ]
    }
   ],
   "source": [
    "# import processed dataset:\n",
    "hadll_ds = xr.open_mfdataset(\n",
    "    '/home/links/ct715/data_storage/PAMIP/processed_monthly/HadGEM3-GC31-LL_1.1_ubar_epfy_divFy.nc',\n",
    "    parallel=True,\n",
    ")\n",
    "\n",
    "# new method\n",
    "hadll_EFP = ef.calculate_efp_pamip(hadll_ds, which_div1='divFy')\n",
    "\n",
    "# old method\n",
    "gc31_ll = hadll_ds.where(hadll_ds.level < 1000.)\n",
    "gc31_ll = gc31_ll.where(gc31_ll.level > 1.)\n",
    "gc31_ll = gc31_ll.where(gc31_ll.lat > -90.)\n",
    "gc31_ll = gc31_ll.where(gc31_ll.lat < 90)\n",
    "gc31_ll = gc31_ll.interp(lat=np.arange(-90,93,3))\n",
    "gc31_ll = ef.calculate_divFphi(gc31_ll, save_divFphi='divF')\n",
    "gc31_ll_EFP = ef.calculate_efp_pamip(gc31_ll, which_div1='divF')\n",
    "\n",
    "print(f'New EFP: {hadll_EFP}\\nOld EFP: {gc31_ll_EFP}')"
   ]
  },
  {
   "cell_type": "markdown",
   "metadata": {},
   "source": [
    "# HadGEM3-GC31-MM"
   ]
  },
  {
   "cell_type": "code",
   "execution_count": 11,
   "metadata": {},
   "outputs": [
    {
     "name": "stdout",
     "output_type": "stream",
     "text": [
      "New EFP: 0.3166\n",
      "Old EFP: 0.3807\n"
     ]
    }
   ],
   "source": [
    "HadGEM3 = xr.open_mfdataset('/home/links/ct715/data_storage/PAMIP/processed_monthly/HadGEM3-GC31-MM_1.1_ubar_epfy_divFy.nc',\n",
    "                        parallel=True, chunks={'time': 31})\n",
    "\n",
    "HadGEM3_EFP = ef.calculate_efp_pamip(HadGEM3, which_div1='divFy')\n",
    "\n",
    "hadmm = HadGEM3.where(HadGEM3.level < 1000.)\n",
    "hadmm = hadmm.where(hadmm.level > 1.)\n",
    "hadmm = hadmm.where(hadmm.lat > -90.)\n",
    "hadmm = hadmm.where(hadmm.lat < 90)\n",
    "hadmm = hadmm.interp(lat=np.arange(-90,93,3))\n",
    "hadmm = ef.calculate_divFphi(hadmm, save_divFphi='divF')\n",
    "hadmm_EFP = ef.calculate_efp_pamip(hadmm, which_div1='divF')\n",
    "\n",
    "print(f'New EFP: {HadGEM3_EFP}\\nOld EFP: {hadmm_EFP}')"
   ]
  },
  {
   "cell_type": "code",
   "execution_count": 24,
   "metadata": {},
   "outputs": [
    {
     "data": {
      "text/plain": [
       "<matplotlib.contour.QuadContourSet at 0x7f652f48de80>"
      ]
     },
     "execution_count": 24,
     "metadata": {},
     "output_type": "execute_result"
    },
    {
     "data": {
      "image/png": "[encoded data removed]",
      "text/plain": [
       "<Figure size 640x480 with 2 Axes>"
      ]
     },
     "metadata": {},
     "output_type": "display_data"
    }
   ],
   "source": [
    "HadGEM3.ubar.mean(('time', 'ens_ax')).plot.contourf(levels=20, yincrease=False)"
   ]
  },
  {
   "cell_type": "markdown",
   "metadata": {},
   "source": [
    "# IPSL-CM6A-LR"
   ]
  },
  {
   "cell_type": "code",
   "execution_count": 13,
   "metadata": {},
   "outputs": [
    {
     "name": "stdout",
     "output_type": "stream",
     "text": [
      "New EFP: 0.2762\n",
      "Old EFP: 0.309\n"
     ]
    }
   ],
   "source": [
    "# import processed dataset:\n",
    "ipsl_ds = xr.open_mfdataset(\n",
    "    '/home/links/ct715/data_storage/PAMIP/processed_monthly/IPSL-CM6A-LR_1.1_ubar_epfy_divFy.nc',\n",
    "    parallel=True,\n",
    ")\n",
    "\n",
    "# new method\n",
    "ipsl_EFP = ef.calculate_efp_pamip(ipsl_ds, which_div1='divFy')\n",
    "\n",
    "# old method\n",
    "ipsl_cm6a = ipsl_ds.where(ipsl_ds.level < 1000.)\n",
    "ipsl_cm6a = ipsl_cm6a.where(ipsl_cm6a.level > 1.)\n",
    "ipsl_cm6a = ipsl_cm6a.where(ipsl_cm6a.lat > -90.)\n",
    "ipsl_cm6a = ipsl_cm6a.where(ipsl_cm6a.lat < 90)\n",
    "ipsl_cm6a = ipsl_cm6a.interp(lat=np.arange(-90,93,3))\n",
    "ipsl_cm6a = ef.calculate_divFphi(ipsl_cm6a, save_divFphi='divF')\n",
    "ipsl_cm6a_EFP = ef.calculate_efp_pamip(ipsl_cm6a, which_div1='divF')\n",
    "\n",
    "print(f'New EFP: {ipsl_EFP}\\nOld EFP: {ipsl_cm6a_EFP}')"
   ]
  },
  {
   "cell_type": "markdown",
   "metadata": {},
   "source": [
    "# MIROC6"
   ]
  },
  {
   "cell_type": "code",
   "execution_count": 14,
   "metadata": {},
   "outputs": [
    {
     "name": "stdout",
     "output_type": "stream",
     "text": [
      "New EFP: 0.2216\n",
      "Old EFP: 0.2578\n"
     ]
    }
   ],
   "source": [
    "MIROC6 = xr.open_mfdataset('/home/links/ct715/data_storage/PAMIP/processed_monthly/MIROC6_1.1_ubar_epfy_divFy.nc',\n",
    "                        parallel=True, chunks={'time': 31})\n",
    "\n",
    "MIROC6_EFP = ef.calculate_efp_pamip(MIROC6, which_div1='divFy')\n",
    "\n",
    "miroc = MIROC6.where(MIROC6.level < 1000.)\n",
    "miroc = miroc.where(miroc.level > 1.)\n",
    "miroc = miroc.where(miroc.lat > -90.)\n",
    "miroc = miroc.where(miroc.lat < 90)\n",
    "miroc = miroc.interp(lat=np.arange(-90,93,3))\n",
    "miroc = ef.calculate_divFphi(miroc, save_divFphi='divF')\n",
    "miroc_EFP = ef.calculate_efp_pamip(miroc, which_div1='divF')\n",
    "\n",
    "print(f'New EFP: {MIROC6_EFP}\\nOld EFP: {miroc_EFP}')"
   ]
  },
  {
   "cell_type": "markdown",
   "metadata": {},
   "source": [
    "# NorESM2-LM"
   ]
  },
  {
   "cell_type": "code",
   "execution_count": 15,
   "metadata": {},
   "outputs": [
    {
     "name": "stdout",
     "output_type": "stream",
     "text": [
      "New EFP: 0.3294\n",
      "Old EFP: 0.3539\n"
     ]
    }
   ],
   "source": [
    "NorESM2 = xr.open_mfdataset('/home/links/ct715/data_storage/PAMIP/processed_monthly/NorESM2-LM_1.1_ubar_epfy_divFy.nc',\n",
    "                        parallel=True, chunks={'time': 31})\n",
    "\n",
    "NorESM2_EFP = ef.calculate_efp_pamip(NorESM2, which_div1='divFy')\n",
    "\n",
    "nor = NorESM2.where(NorESM2.level < 1000.)\n",
    "nor = nor.where(nor.level > 1.)\n",
    "nor = nor.where(nor.lat > -90.)\n",
    "nor = nor.where(nor.lat < 90)\n",
    "nor = nor.interp(lat=np.arange(-90,93,3))\n",
    "nor = ef.calculate_divFphi(nor, save_divFphi='divF')\n",
    "nor_EFP = ef.calculate_efp_pamip(nor, which_div1='divF')\n",
    "\n",
    "print(f'New EFP: {NorESM2_EFP}\\nOld EFP: {nor_EFP}')"
   ]
  },
  {
   "cell_type": "markdown",
   "metadata": {},
   "source": [
    "# OpenIFS-159"
   ]
  },
  {
   "cell_type": "code",
   "execution_count": 16,
   "metadata": {},
   "outputs": [
    {
     "name": "stdout",
     "output_type": "stream",
     "text": [
      "New EFP: 0.3328\n",
      "Old EFP: 0.3825\n"
     ]
    }
   ],
   "source": [
    "# import processed dataset:\n",
    "open159 = xr.open_mfdataset(\n",
    "    '/home/links/ct715/data_storage/PAMIP/processed_monthly/OpenIFS-159_1.1_ubar_epfy_divFy.nc',\n",
    "    parallel=True,\n",
    ")\n",
    "\n",
    "# new method\n",
    "open159_EFP = ef.calculate_efp_pamip(open159, which_div1='divFy')\n",
    "\n",
    "# old method\n",
    "ifs159 = open159.where(open159.level < 1000.)\n",
    "ifs159 = ifs159.where(ifs159.level > 1.)\n",
    "ifs159 = ifs159.where(ifs159.lat > -90.)\n",
    "ifs159 = ifs159.where(ifs159.lat < 90)\n",
    "ifs159 = ifs159.interp(lat=np.arange(-90,93,3))\n",
    "ifs159 = ef.calculate_divFphi(ifs159, save_divFphi='divF')\n",
    "ifs159_EFP = ef.calculate_efp_pamip(ifs159, which_div1='divF')\n",
    "\n",
    "print(f'New EFP: {open159_EFP}\\nOld EFP: {ifs159_EFP}')"
   ]
  },
  {
   "cell_type": "markdown",
   "metadata": {},
   "source": [
    "# OpenIFS-511"
   ]
  },
  {
   "cell_type": "code",
   "execution_count": 17,
   "metadata": {},
   "outputs": [
    {
     "name": "stdout",
     "output_type": "stream",
     "text": [
      "New EFP: 0.2325\n",
      "Old EFP: 0.2751\n"
     ]
    }
   ],
   "source": [
    "# import processed dataset:\n",
    "open511 = xr.open_mfdataset(\n",
    "    '/home/links/ct715/data_storage/PAMIP/processed_monthly/OpenIFS-511_1.1_ubar_epfy_divFy.nc',\n",
    "    parallel=True,\n",
    ")\n",
    "\n",
    "# new method\n",
    "open511_EFP = ef.calculate_efp_pamip(open511, which_div1='divFy')\n",
    "\n",
    "# old method\n",
    "ifs511 = open511.where(open511.level < 1000.)\n",
    "ifs511 = ifs511.where(ifs511.level > 1.)\n",
    "ifs511 = ifs511.where(ifs511.lat > -90.)\n",
    "ifs511 = ifs511.where(ifs511.lat < 90)\n",
    "ifs511 = ifs511.interp(lat=np.arange(-90,93,3))\n",
    "ifs511 = ef.calculate_divFphi(ifs511, save_divFphi='divF')\n",
    "ifs511_EFP = ef.calculate_efp_pamip(ifs511, which_div1='divF')\n",
    "\n",
    "print(f'New EFP: {open511_EFP}\\nOld EFP: {ifs511_EFP}')"
   ]
  },
  {
   "cell_type": "markdown",
   "metadata": {},
   "source": [
    "# TABLE TIME"
   ]
  },
  {
   "cell_type": "code",
   "execution_count": 18,
   "metadata": {},
   "outputs": [],
   "source": [
    "def calculate_various_efp_pamip(model, calc_south_hemis=False):\n",
    "    \n",
    "    # new method\n",
    "    new_EFP = ef.calculate_efp_pamip(\n",
    "        model, \n",
    "        which_div1='divFy', \n",
    "        calc_south_hemis=calc_south_hemis\n",
    "    )\n",
    "\n",
    "    # old method\n",
    "    old_method = model.where(model.level < 1000.)\n",
    "    old_method = old_method.where(old_method.level > 1.)\n",
    "    old_method = old_method.where(old_method.lat > -90.)\n",
    "    old_method = old_method.where(old_method.lat < 90)\n",
    "    old_method = old_method.interp(lat=np.arange(-90,93,3))\n",
    "    old_method = ef.calculate_divFphi(old_method, save_divFphi='divF')\n",
    "    \n",
    "    old_method_EFP = ef.calculate_efp_pamip(\n",
    "        old_method, \n",
    "        which_div1='divF', \n",
    "        calc_south_hemis=calc_south_hemis\n",
    "    )\n",
    "    \n",
    "    return new_EFP, old_method_EFP"
   ]
  },
  {
   "cell_type": "code",
   "execution_count": 19,
   "metadata": {},
   "outputs": [],
   "source": [
    "path_dir = '/home/links/ct715/data_storage/PAMIP/processed_monthly/'\n",
    "\n",
    "# extract model names\n",
    "files = os.listdir(path_dir)\n",
    "models = [os.path.basename(f).split('_')[0] for f in files]\n",
    "models.sort()\n",
    "models.remove('regridded')\n",
    "\n",
    "# Create dictionary containing each model name and dataset\n",
    "pamip_datasets = {}\n",
    "for model in models:\n",
    "    # create file path by joining directory and model name\n",
    "    file_path = os.path.join(path_dir, f'{model}_*.nc')\n",
    "    \n",
    "    # open xarray dataset\n",
    "    ds = xr.open_mfdataset(\n",
    "        file_path,\n",
    "        parallel=True,\n",
    "        chunks={'time':31}\n",
    "    )\n",
    "    \n",
    "    # Add dataset to dictionary with required model name\n",
    "    pamip_datasets[model] = ds "
   ]
  },
  {
   "cell_type": "code",
   "execution_count": 20,
   "metadata": {},
   "outputs": [
    {
     "data": {
      "text/html": [
       "<div>\n",
       "<style scoped>\n",
       "    .dataframe tbody tr th:only-of-type {\n",
       "        vertical-align: middle;\n",
       "    }\n",
       "\n",
       "    .dataframe tbody tr th {\n",
       "        vertical-align: top;\n",
       "    }\n",
       "\n",
       "    .dataframe thead th {\n",
       "        text-align: right;\n",
       "    }\n",
       "</style>\n",
       "<table border=\"1\" class=\"dataframe\">\n",
       "  <thead>\n",
       "    <tr style=\"text-align: right;\">\n",
       "      <th></th>\n",
       "      <th>Model</th>\n",
       "      <th>Regridded NH EFP</th>\n",
       "      <th>New NH EFP</th>\n",
       "      <th>Regridded SH EFP</th>\n",
       "      <th>New SH EFP</th>\n",
       "    </tr>\n",
       "  </thead>\n",
       "  <tbody>\n",
       "    <tr>\n",
       "      <th>0</th>\n",
       "      <td>CESM1-WACCM-SC</td>\n",
       "      <td>0.1446</td>\n",
       "      <td>0.1325</td>\n",
       "      <td>0.0308</td>\n",
       "      <td>0.0295</td>\n",
       "    </tr>\n",
       "    <tr>\n",
       "      <th>1</th>\n",
       "      <td>CESM2</td>\n",
       "      <td>0.4213</td>\n",
       "      <td>0.3782</td>\n",
       "      <td>0.3803</td>\n",
       "      <td>0.3528</td>\n",
       "    </tr>\n",
       "    <tr>\n",
       "      <th>2</th>\n",
       "      <td>CNRM-CM6-1</td>\n",
       "      <td>0.2819</td>\n",
       "      <td>0.2469</td>\n",
       "      <td>0.2549</td>\n",
       "      <td>0.2145</td>\n",
       "    </tr>\n",
       "    <tr>\n",
       "      <th>3</th>\n",
       "      <td>CanESM5</td>\n",
       "      <td>0.4516</td>\n",
       "      <td>0.4314</td>\n",
       "      <td>0.4917</td>\n",
       "      <td>0.4715</td>\n",
       "    </tr>\n",
       "    <tr>\n",
       "      <th>4</th>\n",
       "      <td>E3SMv1</td>\n",
       "      <td>0.0584</td>\n",
       "      <td>0.0533</td>\n",
       "      <td>0.0598</td>\n",
       "      <td>0.0545</td>\n",
       "    </tr>\n",
       "    <tr>\n",
       "      <th>5</th>\n",
       "      <td>EC-EARTH3</td>\n",
       "      <td>0.3538</td>\n",
       "      <td>0.3003</td>\n",
       "      <td>0.3699</td>\n",
       "      <td>0.3194</td>\n",
       "    </tr>\n",
       "    <tr>\n",
       "      <th>6</th>\n",
       "      <td>ECHAM6.3</td>\n",
       "      <td>0.0142</td>\n",
       "      <td>0.0134</td>\n",
       "      <td>0.0106</td>\n",
       "      <td>0.0104</td>\n",
       "    </tr>\n",
       "    <tr>\n",
       "      <th>7</th>\n",
       "      <td>FGOALS-f3-L</td>\n",
       "      <td>0.2688</td>\n",
       "      <td>0.2395</td>\n",
       "      <td>0.1548</td>\n",
       "      <td>0.1306</td>\n",
       "    </tr>\n",
       "    <tr>\n",
       "      <th>8</th>\n",
       "      <td>HadGEM3-GC31-LL</td>\n",
       "      <td>0.3216</td>\n",
       "      <td>0.2780</td>\n",
       "      <td>0.3496</td>\n",
       "      <td>0.3037</td>\n",
       "    </tr>\n",
       "    <tr>\n",
       "      <th>9</th>\n",
       "      <td>HadGEM3-GC31-MM</td>\n",
       "      <td>0.3807</td>\n",
       "      <td>0.3166</td>\n",
       "      <td>0.3705</td>\n",
       "      <td>0.3071</td>\n",
       "    </tr>\n",
       "    <tr>\n",
       "      <th>10</th>\n",
       "      <td>IPSL-CM6A-LR</td>\n",
       "      <td>0.3090</td>\n",
       "      <td>0.2762</td>\n",
       "      <td>0.2366</td>\n",
       "      <td>0.2015</td>\n",
       "    </tr>\n",
       "    <tr>\n",
       "      <th>11</th>\n",
       "      <td>MIROC6</td>\n",
       "      <td>0.2578</td>\n",
       "      <td>0.2216</td>\n",
       "      <td>0.3714</td>\n",
       "      <td>0.3316</td>\n",
       "    </tr>\n",
       "    <tr>\n",
       "      <th>12</th>\n",
       "      <td>NorESM2-LM</td>\n",
       "      <td>0.3539</td>\n",
       "      <td>0.3294</td>\n",
       "      <td>0.4055</td>\n",
       "      <td>0.3850</td>\n",
       "    </tr>\n",
       "    <tr>\n",
       "      <th>13</th>\n",
       "      <td>OpenIFS-159</td>\n",
       "      <td>0.3825</td>\n",
       "      <td>0.3328</td>\n",
       "      <td>0.3836</td>\n",
       "      <td>0.3355</td>\n",
       "    </tr>\n",
       "    <tr>\n",
       "      <th>14</th>\n",
       "      <td>OpenIFS-511</td>\n",
       "      <td>0.2751</td>\n",
       "      <td>0.2325</td>\n",
       "      <td>0.3617</td>\n",
       "      <td>0.3100</td>\n",
       "    </tr>\n",
       "  </tbody>\n",
       "</table>\n",
       "</div>"
      ],
      "text/plain": [
       "              Model  Regridded NH EFP  New NH EFP  Regridded SH EFP  \\\n",
       "0    CESM1-WACCM-SC            0.1446      0.1325            0.0308   \n",
       "1             CESM2            0.4213      0.3782            0.3803   \n",
       "2        CNRM-CM6-1            0.2819      0.2469            0.2549   \n",
       "3           CanESM5            0.4516      0.4314            0.4917   \n",
       "4            E3SMv1            0.0584      0.0533            0.0598   \n",
       "5         EC-EARTH3            0.3538      0.3003            0.3699   \n",
       "6          ECHAM6.3            0.0142      0.0134            0.0106   \n",
       "7       FGOALS-f3-L            0.2688      0.2395            0.1548   \n",
       "8   HadGEM3-GC31-LL            0.3216      0.2780            0.3496   \n",
       "9   HadGEM3-GC31-MM            0.3807      0.3166            0.3705   \n",
       "10     IPSL-CM6A-LR            0.3090      0.2762            0.2366   \n",
       "11           MIROC6            0.2578      0.2216            0.3714   \n",
       "12       NorESM2-LM            0.3539      0.3294            0.4055   \n",
       "13      OpenIFS-159            0.3825      0.3328            0.3836   \n",
       "14      OpenIFS-511            0.2751      0.2325            0.3617   \n",
       "\n",
       "    New SH EFP  \n",
       "0       0.0295  \n",
       "1       0.3528  \n",
       "2       0.2145  \n",
       "3       0.4715  \n",
       "4       0.0545  \n",
       "5       0.3194  \n",
       "6       0.0104  \n",
       "7       0.1306  \n",
       "8       0.3037  \n",
       "9       0.3071  \n",
       "10      0.2015  \n",
       "11      0.3316  \n",
       "12      0.3850  \n",
       "13      0.3355  \n",
       "14      0.3100  "
      ]
     },
     "execution_count": 20,
     "metadata": {},
     "output_type": "execute_result"
    }
   ],
   "source": [
    "pamip_table = []\n",
    "pamip_table_diff = []\n",
    "for model_name, ds in pamip_datasets.items():\n",
    "    \n",
    "    # calculate efp for both hemis\n",
    "    NH_new_EFP, NH_old_EFP = calculate_various_efp_pamip(ds)\n",
    "    SH_new_EFP, SH_old_EFP = calculate_various_efp_pamip(ds, calc_south_hemis=True)\n",
    "    \n",
    "    # add dictionary to a list\n",
    "    pamip_table.append({'Model': model_name, \n",
    "                        'Regridded NH EFP': NH_old_EFP, 'New NH EFP': NH_new_EFP, \n",
    "                        'Regridded SH EFP': SH_old_EFP, 'New SH EFP': SH_new_EFP})\n",
    "    \n",
    "    pamip_table_diff.append({'Model': model_name, \n",
    "                             'NH Difference': NH_old_EFP-NH_new_EFP, \n",
    "                             'SH Difference': SH_old_EFP-SH_new_EFP})\n",
    "    \n",
    "df_pamip = pd.DataFrame(pamip_table)\n",
    "df_pamip"
   ]
  },
  {
   "cell_type": "code",
   "execution_count": 21,
   "metadata": {},
   "outputs": [
    {
     "data": {
      "text/html": [
       "<div>\n",
       "<style scoped>\n",
       "    .dataframe tbody tr th:only-of-type {\n",
       "        vertical-align: middle;\n",
       "    }\n",
       "\n",
       "    .dataframe tbody tr th {\n",
       "        vertical-align: top;\n",
       "    }\n",
       "\n",
       "    .dataframe thead th {\n",
       "        text-align: right;\n",
       "    }\n",
       "</style>\n",
       "<table border=\"1\" class=\"dataframe\">\n",
       "  <thead>\n",
       "    <tr style=\"text-align: right;\">\n",
       "      <th></th>\n",
       "      <th>Model</th>\n",
       "      <th>NH Difference</th>\n",
       "      <th>SH Difference</th>\n",
       "    </tr>\n",
       "  </thead>\n",
       "  <tbody>\n",
       "    <tr>\n",
       "      <th>0</th>\n",
       "      <td>CESM1-WACCM-SC</td>\n",
       "      <td>0.0121</td>\n",
       "      <td>0.0013</td>\n",
       "    </tr>\n",
       "    <tr>\n",
       "      <th>1</th>\n",
       "      <td>CESM2</td>\n",
       "      <td>0.0431</td>\n",
       "      <td>0.0275</td>\n",
       "    </tr>\n",
       "    <tr>\n",
       "      <th>2</th>\n",
       "      <td>CNRM-CM6-1</td>\n",
       "      <td>0.0350</td>\n",
       "      <td>0.0404</td>\n",
       "    </tr>\n",
       "    <tr>\n",
       "      <th>3</th>\n",
       "      <td>CanESM5</td>\n",
       "      <td>0.0202</td>\n",
       "      <td>0.0202</td>\n",
       "    </tr>\n",
       "    <tr>\n",
       "      <th>4</th>\n",
       "      <td>E3SMv1</td>\n",
       "      <td>0.0051</td>\n",
       "      <td>0.0053</td>\n",
       "    </tr>\n",
       "    <tr>\n",
       "      <th>5</th>\n",
       "      <td>EC-EARTH3</td>\n",
       "      <td>0.0535</td>\n",
       "      <td>0.0505</td>\n",
       "    </tr>\n",
       "    <tr>\n",
       "      <th>6</th>\n",
       "      <td>ECHAM6.3</td>\n",
       "      <td>0.0008</td>\n",
       "      <td>0.0002</td>\n",
       "    </tr>\n",
       "    <tr>\n",
       "      <th>7</th>\n",
       "      <td>FGOALS-f3-L</td>\n",
       "      <td>0.0293</td>\n",
       "      <td>0.0242</td>\n",
       "    </tr>\n",
       "    <tr>\n",
       "      <th>8</th>\n",
       "      <td>HadGEM3-GC31-LL</td>\n",
       "      <td>0.0436</td>\n",
       "      <td>0.0459</td>\n",
       "    </tr>\n",
       "    <tr>\n",
       "      <th>9</th>\n",
       "      <td>HadGEM3-GC31-MM</td>\n",
       "      <td>0.0641</td>\n",
       "      <td>0.0634</td>\n",
       "    </tr>\n",
       "    <tr>\n",
       "      <th>10</th>\n",
       "      <td>IPSL-CM6A-LR</td>\n",
       "      <td>0.0328</td>\n",
       "      <td>0.0351</td>\n",
       "    </tr>\n",
       "    <tr>\n",
       "      <th>11</th>\n",
       "      <td>MIROC6</td>\n",
       "      <td>0.0362</td>\n",
       "      <td>0.0398</td>\n",
       "    </tr>\n",
       "    <tr>\n",
       "      <th>12</th>\n",
       "      <td>NorESM2-LM</td>\n",
       "      <td>0.0245</td>\n",
       "      <td>0.0205</td>\n",
       "    </tr>\n",
       "    <tr>\n",
       "      <th>13</th>\n",
       "      <td>OpenIFS-159</td>\n",
       "      <td>0.0497</td>\n",
       "      <td>0.0481</td>\n",
       "    </tr>\n",
       "    <tr>\n",
       "      <th>14</th>\n",
       "      <td>OpenIFS-511</td>\n",
       "      <td>0.0426</td>\n",
       "      <td>0.0517</td>\n",
       "    </tr>\n",
       "  </tbody>\n",
       "</table>\n",
       "</div>"
      ],
      "text/plain": [
       "              Model  NH Difference  SH Difference\n",
       "0    CESM1-WACCM-SC         0.0121         0.0013\n",
       "1             CESM2         0.0431         0.0275\n",
       "2        CNRM-CM6-1         0.0350         0.0404\n",
       "3           CanESM5         0.0202         0.0202\n",
       "4            E3SMv1         0.0051         0.0053\n",
       "5         EC-EARTH3         0.0535         0.0505\n",
       "6          ECHAM6.3         0.0008         0.0002\n",
       "7       FGOALS-f3-L         0.0293         0.0242\n",
       "8   HadGEM3-GC31-LL         0.0436         0.0459\n",
       "9   HadGEM3-GC31-MM         0.0641         0.0634\n",
       "10     IPSL-CM6A-LR         0.0328         0.0351\n",
       "11           MIROC6         0.0362         0.0398\n",
       "12       NorESM2-LM         0.0245         0.0205\n",
       "13      OpenIFS-159         0.0497         0.0481\n",
       "14      OpenIFS-511         0.0426         0.0517"
      ]
     },
     "execution_count": 21,
     "metadata": {},
     "output_type": "execute_result"
    }
   ],
   "source": [
    "df_pamip_diff = pd.DataFrame(pamip_table_diff)\n",
    "df_pamip_diff"
   ]
  },
  {
   "cell_type": "markdown",
   "metadata": {},
   "source": [
    "# Plotting Time"
   ]
  },
  {
   "cell_type": "code",
   "execution_count": 22,
   "metadata": {},
   "outputs": [],
   "source": [
    "import seaborn as sns\n",
    "import matplotlib.pyplot as plt\n",
    "import scipy as sp"
   ]
  },
  {
   "cell_type": "code",
   "execution_count": 23,
   "metadata": {},
   "outputs": [
    {
     "data": {
      "image/png": "[encoded data removed]",
      "text/plain": [
       "<Figure size 1500x500 with 2 Axes>"
      ]
     },
     "metadata": {},
     "output_type": "display_data"
    }
   ],
   "source": [
    "fig, (ax1, ax2) = plt.subplots(ncols=2, figsize=(15,5), sharey=True)\n",
    "\n",
    "## FIGURE 1\n",
    "\n",
    "scatter_plot1 = sns.scatterplot(\n",
    "    x='Regridded SH EFP', \n",
    "    y='Regridded NH EFP', \n",
    "    hue='Model', \n",
    "    style='Model', \n",
    "    data=df_pamip, \n",
    "    palette='deep', \n",
    "    markers=True, \n",
    "    s=100,\n",
    "    ax=ax1\n",
    ")\n",
    "# Plot the regression line\n",
    "sns.regplot(\n",
    "    x='Regridded SH EFP', \n",
    "    y='Regridded NH EFP', \n",
    "    data=df_pamip, \n",
    "    scatter=False, \n",
    "    ax=scatter_plot1\n",
    ")\n",
    "ax1.legend([])\n",
    "ax1.set_ylim(0,0.5)\n",
    "ax1.set_xlim(0,0.5)\n",
    "ax1.set_title('Regridded PAMIP data (3$^\\\\circ$x 3$^\\\\circ$)')\n",
    "\n",
    "# Insert Pearson's correlation\n",
    "r1, p1 = sp.stats.pearsonr(x=df_pamip['Regridded NH EFP'], y=df_pamip['Regridded SH EFP'])\n",
    "ax = plt.gca()\n",
    "plt.text(-1.15, .9, \"r ={:.2f}\".format(r1), transform=ax.transAxes, fontsize=16)\n",
    "\n",
    "\n",
    "## FIGURE 2\n",
    "\n",
    "scatter_plot2 = sns.scatterplot(\n",
    "    y='New NH EFP', \n",
    "    x='New SH EFP', \n",
    "    hue='Model', \n",
    "    style='Model', \n",
    "    data=df_pamip, \n",
    "    palette='deep', \n",
    "    markers=True, \n",
    "    s=100,\n",
    "    ax=ax2\n",
    ")\n",
    "# Plot the regression line\n",
    "sns.regplot(\n",
    "    y='New NH EFP', \n",
    "    x='New SH EFP', \n",
    "    data=df_pamip, \n",
    "    scatter=False, \n",
    "    ax=scatter_plot2\n",
    ")\n",
    "ax2.set_xlim(0,0.5)\n",
    "ax2.set_title('Original Resolution')\n",
    "\n",
    "# Insert Pearson's correlation\n",
    "r2, p2 = sp.stats.pearsonr(x=df_pamip['New SH EFP'], y=df_pamip['New NH EFP'])\n",
    "ax = plt.gca()\n",
    "plt.text(.05, .9, \"r ={:.2f}\".format(r2), transform=ax.transAxes, fontsize=16)\n",
    "\n",
    "plt.minorticks_on()\n",
    "plt.legend(bbox_to_anchor=(1,1))\n",
    "\n",
    "plt.savefig('/home/links/ct715/eddy_feedback/plots/pamip_resolution.pdf')\n",
    "plt.show()"
   ]
  },
  {
   "cell_type": "code",
   "execution_count": null,
   "metadata": {},
   "outputs": [],
   "source": []
  }
 ],
 "metadata": {
  "kernelspec": {
   "display_name": "eddy",
   "language": "python",
   "name": "python3"
  },
  "language_info": {
   "codemirror_mode": {
    "name": "ipython",
    "version": 3
   },
   "file_extension": ".py",
   "mimetype": "text/x-python",
   "name": "python",
   "nbconvert_exporter": "python",
   "pygments_lexer": "ipython3",
   "version": "3.12.0"
  }
 },
 "nbformat": 4,
 "nbformat_minor": 2
}
