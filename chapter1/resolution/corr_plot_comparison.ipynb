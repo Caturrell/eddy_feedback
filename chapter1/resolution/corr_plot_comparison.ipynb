{
 "cells": [
  {
   "cell_type": "code",
   "execution_count": 11,
   "id": "cd00b6b4",
   "metadata": {},
   "outputs": [],
   "source": [
    "import os\n",
    "import xarray as xr"
   ]
  },
  {
   "cell_type": "code",
   "execution_count": 12,
   "id": "f4877668",
   "metadata": {},
   "outputs": [
    {
     "name": "stdout",
     "output_type": "stream",
     "text": [
      "11\n"
     ]
    }
   ],
   "source": [
    "# Import NON-REGRIDDED DATA\n",
    "data_dir = '/home/links/ct715/data_storage/PAMIP/processed_monthly/combined_ua_epfy_divFy/1.1_pdSST-pdSIC'\n",
    "\n",
    "ds_combined = {}\n",
    "# Loop through all .nc files in the directory\n",
    "for filename in sorted(os.listdir(data_dir)):\n",
    "    if filename.endswith('.nc'):\n",
    "        parts = filename.split('_')\n",
    "        model = parts[0]  # Model name\n",
    "\n",
    "        key = f'{model}'\n",
    "        file_path = os.path.join(data_dir, filename)\n",
    "\n",
    "        # Load dataset and assign model and realization as attributes\n",
    "        ds_combined[key] = xr.open_dataset(file_path).assign_attrs(model=model)\n",
    "        \n",
    "models = []\n",
    "for key in ds_combined.keys():\n",
    "    models.append(key)\n",
    "    \n",
    "print(len(ds_combined))"
   ]
  },
  {
   "cell_type": "code",
   "execution_count": 13,
   "id": "c4a8b76a",
   "metadata": {},
   "outputs": [
    {
     "name": "stdout",
     "output_type": "stream",
     "text": [
      "11\n"
     ]
    }
   ],
   "source": [
    "data_dir = '/home/links/ct715/data_storage/PAMIP/processed_monthly/regridded_3x3/1.1_pdSST-pdSIC'\n",
    "\n",
    "ds_regrid = {}\n",
    "# Loop through all .nc files in the directory\n",
    "for filename in sorted(os.listdir(data_dir)):\n",
    "    if filename.endswith('.nc'):\n",
    "        parts = filename.split('_')\n",
    "        model = parts[0]  # Model name\n",
    "\n",
    "        key = f'{model}'\n",
    "        file_path = os.path.join(data_dir, filename)\n",
    "\n",
    "        # Load dataset and assign model and realization as attributes\n",
    "        ds_regrid[key] = xr.open_dataset(file_path).assign_attrs(model=model)\n",
    "del ds_regrid['CESM1-WACCM-SC']\n",
    "del ds_regrid['E3SMv1']\n",
    "del ds_regrid['ECHAM6.3']\n",
    "del ds_regrid['OpenIFS-511']\n",
    "print(len(ds_regrid))"
   ]
  },
  {
   "cell_type": "code",
   "execution_count": null,
   "id": "2f151d59",
   "metadata": {},
   "outputs": [
    {
     "data": {
      "text/plain": [
       "['CESM2',\n",
       " 'CNRM-CM6-1',\n",
       " 'CanESM5',\n",
       " 'EC-EARTH3',\n",
       " 'FGOALS-f3-L',\n",
       " 'HadGEM3-GC31-LL',\n",
       " 'HadGEM3-GC31-MM',\n",
       " 'IPSL-CM6A-LR',\n",
       " 'MIROC6',\n",
       " 'NorESM2-LM',\n",
       " 'OpenIFS-159']"
      ]
     },
     "execution_count": 10,
     "metadata": {},
     "output_type": "execute_result"
    }
   ],
   "source": [
    "\n"
   ]
  },
  {
   "cell_type": "code",
   "execution_count": null,
   "id": "94bf4563",
   "metadata": {},
   "outputs": [],
   "source": []
  }
 ],
 "metadata": {
  "kernelspec": {
   "display_name": "Python 3",
   "language": "python",
   "name": "python3"
  },
  "language_info": {
   "codemirror_mode": {
    "name": "ipython",
    "version": 3
   },
   "file_extension": ".py",
   "mimetype": "text/x-python",
   "name": "python",
   "nbconvert_exporter": "python",
   "pygments_lexer": "ipython3",
   "version": "3.10.16"
  }
 },
 "nbformat": 4,
 "nbformat_minor": 5
}
