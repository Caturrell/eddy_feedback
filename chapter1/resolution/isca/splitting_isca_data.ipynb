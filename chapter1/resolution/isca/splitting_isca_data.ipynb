{
 "cells": [
  {
   "cell_type": "code",
   "execution_count": 1,
   "metadata": {},
   "outputs": [],
   "source": [
    "import xarray as xr\n",
    "from pathlib import Path\n",
    "import numpy as np\n",
    "\n",
    "import functions.eddy_feedback as ef\n",
    "import functions.data_wrangling as data"
   ]
  },
  {
   "cell_type": "code",
   "execution_count": 2,
   "metadata": {},
   "outputs": [],
   "source": [
    "path = '/home/links/ct715/data_storage/isca/held-suarez'\n",
    "nc_path = Path(path) / 'HS_T42_100y_60delh_epf.nc'\n",
    "\n",
    "ds = xr.open_mfdataset(\n",
    "    nc_path,\n",
    "    parallel=True,\n",
    "    chunks={'time': 360}\n",
    ")\n",
    "\n",
    "# discard first year, find seasonal means and rename vars\n",
    "ds = ds.sel(time=slice('2000-12', '2099-11'))\n",
    "ds = ds.resample(time='QS-DEC').mean('time')\n",
    "ds = ds[['ubar', 'divFy']]"
   ]
  },
  {
   "cell_type": "code",
   "execution_count": 3,
   "metadata": {},
   "outputs": [
    {
     "data": {
      "text/plain": [
       "24"
      ]
     },
     "execution_count": 3,
     "metadata": {},
     "output_type": "execute_result"
    }
   ],
   "source": [
    "seasonal_months = {\n",
    "    'djf': 12,\n",
    "    'mam': 3,\n",
    "    'jja': 6,\n",
    "    'son': 9\n",
    "}\n",
    "split_3way = {\n",
    "    'set1': slice('2000-12', '2033-09'),\n",
    "    'set2': slice('2033-12', '2066-09'),\n",
    "    'set3': slice('2066-12', '2099-09')\n",
    "}\n",
    "hemispheres = {'SH': slice(-90, 0), 'NH': slice(0,90)}\n",
    "\n",
    "subsets = {}\n",
    "# Iterate through seasonal months, splits, and hemispheres\n",
    "for season, months in seasonal_months.items():\n",
    "    for split, split_range in split_3way.items():\n",
    "        for hemisphere, lat_range in hemispheres.items():\n",
    "            \n",
    "            # Subset dataset for the season (handling multi-month selection)\n",
    "            season_ds = ds.sel(time=ds.time.dt.month.isin(months))\n",
    "            \n",
    "            # Subset data for the time range split\n",
    "            split_ds = season_ds.sel(time=split_range)\n",
    "            \n",
    "            # Subset data for the hemisphere\n",
    "            hemis_ds = split_ds.sel(lat=lat_range)\n",
    "            \n",
    "            # Store the subset\n",
    "            key = f'{season}_{hemisphere}_{split}'\n",
    "            subsets[key] = hemis_ds\n",
    "len(subsets)"
   ]
  },
  {
   "cell_type": "code",
   "execution_count": 4,
   "metadata": {},
   "outputs": [],
   "source": [
    "def calculate_efp_isca(ds, hemisphere):\n",
    "    \n",
    "    # calculate correlation and square it\n",
    "    correlation = xr.corr(ds.divFy, ds.ubar, dim='time')\n",
    "    corr = correlation**2\n",
    "    \n",
    "    # subset for EFP box, depending on hemis\n",
    "    corr = corr.sel(level=slice(600., 200.))\n",
    "    \n",
    "    if hemisphere == 'NH':\n",
    "        corr = corr.sel(lat=slice(25,75))\n",
    "    elif hemisphere == 'SH':\n",
    "        corr = corr.sel(lat=slice(-75,-25))\n",
    "    else:\n",
    "        print('Hemisphere not specified.')\n",
    "        \n",
    "    corr = corr.mean('level')\n",
    "        \n",
    "    weights = np.cos(np.deg2rad(corr.lat))\n",
    "    eddy_feedback_param = corr.weighted(weights).mean('lat')\n",
    "    \n",
    "    return eddy_feedback_param.values.round(4)"
   ]
  },
  {
   "cell_type": "code",
   "execution_count": 5,
   "metadata": {},
   "outputs": [],
   "source": [
    "efp_HS = {}\n",
    "for key, dataset in subsets.items():\n",
    "    \n",
    "    # distinguish between NH and SH datasets\n",
    "    which_hemis = key.split('_')[1]\n",
    "    \n",
    "    # calculate EFP and save to a new dictionary\n",
    "    efp = calculate_efp_isca(dataset, hemisphere=which_hemis)\n",
    "    efp_HS[key] = efp"
   ]
  },
  {
   "cell_type": "markdown",
   "metadata": {},
   "source": [
    "# Seaborn boxplot"
   ]
  },
  {
   "cell_type": "code",
   "execution_count": 6,
   "metadata": {},
   "outputs": [],
   "source": [
    "import seaborn as sns \n",
    "import matplotlib.pyplot as plt"
   ]
  },
  {
   "cell_type": "code",
   "execution_count": 7,
   "metadata": {},
   "outputs": [
    {
     "data": {
      "image/png": "[encoded data removed]",
      "text/plain": [
       "<Figure size 640x480 with 1 Axes>"
      ]
     },
     "metadata": {},
     "output_type": "display_data"
    }
   ],
   "source": [
    "sns.boxplot(efp_HS,\n",
    "    fill=False,\n",
    ").set(\n",
    "    xlabel='HS_T42',\n",
    "    ylabel='EFP Value'\n",
    ")\n",
    "plt.show()"
   ]
  },
  {
   "cell_type": "markdown",
   "metadata": {},
   "source": [
    "- Speak to Regan and Will about boostrapping for 99 years\n",
    "- Saffin Fig1 maybe"
   ]
  },
  {
   "cell_type": "markdown",
   "metadata": {},
   "source": []
  }
 ],
 "metadata": {
  "kernelspec": {
   "display_name": "eddy",
   "language": "python",
   "name": "python3"
  },
  "language_info": {
   "codemirror_mode": {
    "name": "ipython",
    "version": 3
   },
   "file_extension": ".py",
   "mimetype": "text/x-python",
   "name": "python",
   "nbconvert_exporter": "python",
   "pygments_lexer": "ipython3",
   "version": "3.12.0"
  }
 },
 "nbformat": 4,
 "nbformat_minor": 2
}
