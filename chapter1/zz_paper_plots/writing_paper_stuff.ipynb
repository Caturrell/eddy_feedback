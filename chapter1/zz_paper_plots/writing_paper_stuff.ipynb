{
 "cells": [
  {
   "cell_type": "code",
   "execution_count": 1,
   "id": "496ac4b9",
   "metadata": {},
   "outputs": [],
   "source": [
    "import xarray as xr"
   ]
  },
  {
   "cell_type": "markdown",
   "id": "ad83eba2",
   "metadata": {},
   "source": [
    "# Number of ensembles"
   ]
  },
  {
   "cell_type": "code",
   "execution_count": 2,
   "id": "68366cc5",
   "metadata": {},
   "outputs": [
    {
     "name": "stdout",
     "output_type": "stream",
     "text": [
      "\n",
      "File: CESM1-WACCM-SC_1.1_ubar_epfy_divFy.nc\n",
      "FrozenMappingWarningOnValuesAccess({'lat': 96, 'level': 18, 'time': 3600})\n",
      "\n",
      "File: EC-EARTH3_1.1_ubar_epfy_divFy.nc\n",
      "FrozenMappingWarningOnValuesAccess({'time': 12, 'level': 19, 'lat': 256, 'ens_ax': 150})\n",
      "\n",
      "File: CNRM-CM6-1_1.1_ubar_epfy_divFy.nc\n",
      "FrozenMappingWarningOnValuesAccess({'lat': 128, 'level': 23, 'time': 12, 'ens_ax': 300})\n",
      "\n",
      "File: NorESM2-LM_1.1_ubar_epfy_divFy.nc\n",
      "FrozenMappingWarningOnValuesAccess({'time': 12, 'level': 19, 'lat': 96, 'ens_ax': 200})\n",
      "\n",
      "File: CanESM5_1.1_ubar_epfy_divFy.nc\n",
      "FrozenMappingWarningOnValuesAccess({'time': 14, 'level': 19, 'lat': 64, 'ens_ax': 300})\n",
      "\n",
      "File: OpenIFS-511_1.1_ubar_epfy_divFy.nc\n",
      "FrozenMappingWarningOnValuesAccess({'time': 12, 'lat': 160, 'level': 19, 'ens_ax': 100})\n",
      "\n",
      "File: OpenIFS-159_1.1_ubar_epfy_divFy.nc\n",
      "FrozenMappingWarningOnValuesAccess({'time': 12, 'lat': 160, 'level': 19, 'ens_ax': 300})\n",
      "\n",
      "File: ECHAM6.3_1.1_ubar_epfy_divFy.nc\n",
      "FrozenMappingWarningOnValuesAccess({'time': 12, 'level': 19, 'lat': 192, 'ens_ax': 100})\n",
      "\n",
      "File: HadGEM3-GC31-LL_1.1_ubar_epfy_divFy.nc\n",
      "FrozenMappingWarningOnValuesAccess({'time': 12, 'lat': 145, 'level': 19, 'ens_ax': 100})\n",
      "\n",
      "File: E3SMv1_1.1_ubar_epfy_divFy.nc\n",
      "FrozenMappingWarningOnValuesAccess({'time': 2400, 'lat': 96, 'level': 18})\n",
      "\n",
      "File: FGOALS-f3-L_1.1_ubar_epfy_divFy.nc\n",
      "FrozenMappingWarningOnValuesAccess({'time': 12, 'lat': 180, 'level': 8, 'ens_ax': 100})\n",
      "\n",
      "File: CESM2_1.1_ubar_epfy_divFy.nc\n",
      "FrozenMappingWarningOnValuesAccess({'lat': 192, 'level': 19, 'time': 12, 'ens_ax': 100})\n",
      "\n",
      "File: IPSL-CM6A-LR_1.1_ubar_epfy_divFy.nc\n",
      "FrozenMappingWarningOnValuesAccess({'lat': 143, 'level': 19, 'time': 12, 'ens_ax': 200})\n",
      "\n",
      "File: MIROC6_1.1_ubar_epfy_divFy.nc\n",
      "FrozenMappingWarningOnValuesAccess({'time': 12, 'level': 19, 'lat': 128, 'ens_ax': 100})\n",
      "\n",
      "File: HadGEM3-GC31-MM_1.1_ubar_epfy_divFy.nc\n",
      "FrozenMappingWarningOnValuesAccess({'time': 14, 'level': 19, 'lat': 325, 'ens_ax': 300})\n"
     ]
    }
   ],
   "source": [
    "import xarray as xr\n",
    "import glob\n",
    "import os\n",
    "\n",
    "# Path to your directory\n",
    "data_dir = \"/home/links/ct715/data_storage/PAMIP/processed_monthly/efp_pd_non-regridded\"\n",
    "\n",
    "# Loop over all .nc files in the directory\n",
    "for file in glob.glob(os.path.join(data_dir, \"*.nc\")):\n",
    "    try:\n",
    "        ds = xr.open_dataset(file)\n",
    "        print(f\"\\nFile: {os.path.basename(file)}\")\n",
    "        print(ds.dims)\n",
    "        ds.close()\n",
    "    except Exception as e:\n",
    "        print(f\"Could not open {file}: {e}\")\n"
   ]
  },
  {
   "cell_type": "code",
   "execution_count": null,
   "id": "db837365",
   "metadata": {},
   "outputs": [],
   "source": []
  }
 ],
 "metadata": {
  "kernelspec": {
   "display_name": "eddy",
   "language": "python",
   "name": "python3"
  },
  "language_info": {
   "codemirror_mode": {
    "name": "ipython",
    "version": 3
   },
   "file_extension": ".py",
   "mimetype": "text/x-python",
   "name": "python",
   "nbconvert_exporter": "python",
   "pygments_lexer": "ipython3",
   "version": "3.10.16"
  }
 },
 "nbformat": 4,
 "nbformat_minor": 5
}
