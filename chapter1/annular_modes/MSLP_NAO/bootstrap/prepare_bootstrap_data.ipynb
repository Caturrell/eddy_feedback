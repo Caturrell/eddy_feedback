{
 "cells": [
  {
   "cell_type": "code",
   "execution_count": 116,
   "id": "ec449478",
   "metadata": {},
   "outputs": [],
   "source": [
    "import xarray as xr\n",
    "import os\n",
    "import numpy as np\n",
    "import matplotlib.pyplot as plt\n",
    "import cartopy.crs as ccrs\n",
    "import cartopy.feature as cfeature\n",
    "\n",
    "import functions.data_wrangling as dw"
   ]
  },
  {
   "cell_type": "markdown",
   "id": "d80fb95f",
   "metadata": {},
   "source": [
    "# PAMIP Models\n",
    "\n",
    "## Import data"
   ]
  },
  {
   "cell_type": "code",
   "execution_count": null,
   "id": "512e9619",
   "metadata": {},
   "outputs": [],
   "source": [
    "main_path = '/home/links/ct715/data_storage/PAMIP/processed_monthly/mslp'\n",
    "models = sorted(os.listdir(main_path))\n",
    "\n",
    "mslp = {}\n",
    "for model in models:\n",
    "    \n",
    "    # open datasets and run data checker\n",
    "    file_path = os.path.join(main_path, model, '*.nc')\n",
    "    ds = xr.open_mfdataset(file_path, concat_dim='ens_ax', combine='nested')\n",
    "    \n",
    "    # dodgy ensemble members\n",
    "    if model == 'HadGEM3-GC31-LL':\n",
    "        members = np.delete(ds.ens_ax.values, [27,28])\n",
    "        ds=ds.sel(ens_ax=members)\n",
    "    \n",
    "    # take ensemble mean\n",
    "    ds = ds.resample(time='1ME').mean()\n",
    "        \n",
    "    ds['psl'] = ds['psl'] / 100  # convert Pa to hPa\n",
    "    \n",
    "    mslp[model] = ds"
   ]
  },
  {
   "cell_type": "code",
   "execution_count": 118,
   "id": "7d2d8de8",
   "metadata": {},
   "outputs": [],
   "source": [
    "main_path = '/home/links/ct715/data_storage/PAMIP/processed_daily/daily_efp_mon-avg'\n",
    "models = sorted(os.listdir(main_path))\n",
    "\n",
    "daily_efp = {}\n",
    "for model in models:\n",
    "    \n",
    "    # open datasets and run data checker\n",
    "    file_path = os.path.join(main_path, model, '*.nc')\n",
    "    ds = xr.open_mfdataset(file_path, concat_dim='ens_ax', combine='nested')\n",
    "    \n",
    "    if model == 'HadGEM3-GC31-LL':\n",
    "        members = np.delete(ds.ens_ax.values, [27,28])\n",
    "        ds=ds.sel(ens_ax=members)\n",
    "    \n",
    "    daily_efp[model] = ds"
   ]
  },
  {
   "cell_type": "markdown",
   "id": "a1178263",
   "metadata": {},
   "source": [
    "## Deal with each model individually"
   ]
  },
  {
   "cell_type": "code",
   "execution_count": 119,
   "id": "90e5dc1c",
   "metadata": {},
   "outputs": [],
   "source": [
    "save_dir = '/home/links/ct715/data_storage/PAMIP/processed_monthly/daily-efp_mon_u_divFy_psl'"
   ]
  },
  {
   "cell_type": "markdown",
   "id": "390edd49",
   "metadata": {},
   "source": [
    "---\n",
    "\n",
    "### AWI-CM-1-1-MR\n",
    "\n",
    "- Nice! Lat and Lon match.\n"
   ]
  },
  {
   "cell_type": "code",
   "execution_count": 120,
   "id": "2e248034",
   "metadata": {},
   "outputs": [],
   "source": [
    "# mslp['AWI-CM-1-1-MR']['time'] = daily_efp['AWI-CM-1-1-MR']['time']\n",
    "# mslp['AWI-CM-1-1-MR'] = mslp['AWI-CM-1-1-MR'].transpose('ens_ax', 'time', 'lat', 'lon', 'bnds')\n",
    "\n",
    "# awi = xr.merge([daily_efp['AWI-CM-1-1-MR'], mslp['AWI-CM-1-1-MR']])\n",
    "# awi = awi[['ubar', 'divFy', 'psl']]\n",
    "\n",
    "# awi.to_netcdf(f'{save_dir}/AWI-CM-1-1-MR_1.1_psl_ubar_divFy_daily-efp_r100.nc')"
   ]
  },
  {
   "cell_type": "markdown",
   "id": "bc10fccb",
   "metadata": {},
   "source": [
    "---\n",
    "\n",
    "### CanESM5\n",
    "\n",
    "- Ensembles don't match.... mslp = 300 ens_ax. \n",
    "- I've checked and can't seem to find the other 200 ensemble members... so will cut mslp down to the first 100 members. Hopefully that doesn't make too much difference lol"
   ]
  },
  {
   "cell_type": "code",
   "execution_count": 121,
   "id": "b92278cd",
   "metadata": {},
   "outputs": [],
   "source": [
    "# mslp['CanESM5'] = mslp['CanESM5'].isel(ens_ax=slice(0, 100))  # select first 100 ensemble members\n",
    "# mslp['CanESM5']['time'] = daily_efp['CanESM5']['time']\n",
    "# mslp['CanESM5'] = mslp['CanESM5'].transpose('ens_ax', 'time', 'lat', 'lon', 'bnds')\n",
    "\n",
    "# can = xr.merge([daily_efp['CanESM5'], mslp['CanESM5']])\n",
    "# can = can[['ubar', 'divFy', 'psl']]\n",
    "\n",
    "# can.to_netcdf(f'{save_dir}/CanESM5_1.1_psl_ubar_divFy_daily-efp_r100.nc')"
   ]
  },
  {
   "cell_type": "markdown",
   "id": "3063e762",
   "metadata": {},
   "source": [
    "---\n",
    "\n",
    "### CNRM-CM6-1"
   ]
  },
  {
   "cell_type": "code",
   "execution_count": 122,
   "id": "7f6c7dbe",
   "metadata": {},
   "outputs": [],
   "source": [
    "# mslp['CNRM-CM6-1']['time'] = daily_efp['CNRM-CM6-1']['time']\n",
    "# mslp['CNRM-CM6-1'] = mslp['CNRM-CM6-1'].transpose('ens_ax', 'time', 'lat', 'lon')\n",
    "\n",
    "# cnrm = xr.merge([daily_efp['CNRM-CM6-1'], mslp['CNRM-CM6-1']])\n",
    "# cnrm = cnrm[['ubar', 'divFy', 'psl']]  \n",
    "\n",
    "# cnrm.to_netcdf(f'{save_dir}/CNRM-CM6-1_1.1_psl_ubar_divFy_daily-efp_r300.nc')"
   ]
  },
  {
   "cell_type": "markdown",
   "id": "a145d0a4",
   "metadata": {},
   "source": [
    "---\n",
    "\n",
    "### FGOALS-f3-L"
   ]
  },
  {
   "cell_type": "code",
   "execution_count": 123,
   "id": "4348fcef",
   "metadata": {},
   "outputs": [],
   "source": [
    "# mslp['FGOALS-f3-L']['time'] = daily_efp['FGOALS-f3-L']['time']\n",
    "# mslp['FGOALS-f3-L'] = mslp['FGOALS-f3-L'].transpose('ens_ax', 'time', 'lat', 'lon', 'bnds')\n",
    "\n",
    "# fgoals = xr.merge([daily_efp['FGOALS-f3-L'], mslp['FGOALS-f3-L']])\n",
    "# fgoals = fgoals[['ubar', 'divFy', 'psl']]  \n",
    "\n",
    "# fgoals.to_netcdf(f'{save_dir}/FGOALS-f3-L_1.1_psl_ubar_divFy_daily-efp_r100.nc')"
   ]
  },
  {
   "cell_type": "markdown",
   "id": "1d1decd4",
   "metadata": {},
   "source": [
    "---\n",
    "\n",
    "### HadGEM3-GC31-LL\n",
    "\n",
    "#### Dodgy ensemble members!! Watch out\n",
    "\n",
    "- Ensemble members don't match: 100 vs 199\n",
    "- Yep, forgot to include QBOE runs\n",
    "- Also dail_efp only has 11 months. May 2001 missing, not important for winter months though. Nor SH winter tbf either"
   ]
  },
  {
   "cell_type": "code",
   "execution_count": null,
   "id": "9094bcad",
   "metadata": {},
   "outputs": [
    {
     "name": "stdout",
     "output_type": "stream",
     "text": [
      "0.1735\n",
      "0.1729\n"
     ]
    }
   ],
   "source": [
    "# import functions.eddy_feedback as ef\n",
    "\n",
    "# efp_nh = ef.calculate_efp(hadll, data_type='pamip')\n",
    "# efp_sh = ef.calculate_efp(hadll, data_type='pamip', calc_south_hemis=True)\n",
    "\n",
    "# print(efp_nh)   \n",
    "# print(efp_sh)"
   ]
  },
  {
   "cell_type": "code",
   "execution_count": null,
   "id": "c10b6ba3",
   "metadata": {},
   "outputs": [],
   "source": [
    "# mslp['HadGEM3-GC31-LL'] = mslp['HadGEM3-GC31-LL'].interp(lat=daily_efp['HadGEM3-GC31-LL'].lat, lon=daily_efp['HadGEM3-GC31-LL'].lon, method='linear')\n",
    "# mslp['HadGEM3-GC31-LL'] = mslp['HadGEM3-GC31-LL'].sel(time=slice('2000-06', '2001-04'))  # select first 100 ensemble members\n",
    "# mslp['HadGEM3-GC31-LL']['time'] = daily_efp['HadGEM3-GC31-LL']['time']\n",
    "# mslp['HadGEM3-GC31-LL'] = mslp['HadGEM3-GC31-LL'].transpose('ens_ax', 'time', 'lat', 'lon')\n",
    "\n",
    "# hadLL = xr.merge([daily_efp['HadGEM3-GC31-LL'], mslp['HadGEM3-GC31-LL']])\n",
    "# hadLL = hadLL[['ubar', 'divFy', 'psl']]\n",
    "\n",
    "# hadLL.to_netcdf(f'{save_dir}/HadGEM3-GC31-LL_1.1_psl_ubar_divFy_daily-efp_r197.nc')"
   ]
  },
  {
   "cell_type": "markdown",
   "id": "100ed293",
   "metadata": {},
   "source": [
    "#### Wrangling QBOE\n",
    "\n",
    "- Needed to check variables from previous script."
   ]
  },
  {
   "cell_type": "code",
   "execution_count": 127,
   "id": "242f3334",
   "metadata": {},
   "outputs": [],
   "source": [
    "# path = '/home/links/ct715/data_storage/PAMIP/monthly/1.1_pdSST-pdSIC/psl/HadGEM3-GC31-LL'\n",
    "# ds = xr.open_mfdataset(f'{path}/psl_Amon_HadGEM3-GC31-LL_pdSST-pdSIC-QBOE-nc*.nc', concat_dim='ens_ax', combine='nested')\n",
    "# ds"
   ]
  },
  {
   "cell_type": "markdown",
   "id": "d99d8982",
   "metadata": {},
   "source": [
    "---\n",
    "\n",
    "### HadGEM3-GC31-MM\n",
    "\n",
    "- Latitude length doesn't match\n",
    "- Longitude points don't match\n",
    "- Time: one is MS and one is ME"
   ]
  },
  {
   "cell_type": "code",
   "execution_count": 128,
   "id": "d581d082",
   "metadata": {},
   "outputs": [],
   "source": [
    "# mslp['HadGEM3-GC31-MM'] = mslp['HadGEM3-GC31-MM'].interp(lat=daily_efp['HadGEM3-GC31-MM'].lat, lon=daily_efp['HadGEM3-GC31-MM'].lon, method='linear')\n",
    "# mslp['HadGEM3-GC31-MM']['time'] = daily_efp['HadGEM3-GC31-MM']['time']\n",
    "# mslp['HadGEM3-GC31-MM'] = mslp['HadGEM3-GC31-MM'].transpose('ens_ax', 'time', 'lat', 'lon', 'bnds')\n",
    "\n",
    "# hadmm = xr.merge([daily_efp['HadGEM3-GC31-MM'], mslp['HadGEM3-GC31-MM']])\n",
    "# hadmm = hadmm[['ubar', 'divFy', 'psl']]\n",
    "# hadmm.to_netcdf(f'{save_dir}/HadGEM3-GC31-MM_1.1_psl_ubar_divFy_daily-efp_r300.nc')"
   ]
  },
  {
   "cell_type": "markdown",
   "id": "c36af104",
   "metadata": {},
   "source": [
    "---\n",
    "\n",
    "### IPSL-CM6A-LR"
   ]
  },
  {
   "cell_type": "code",
   "execution_count": 129,
   "id": "a0937f6e",
   "metadata": {},
   "outputs": [],
   "source": [
    "# mslp['IPSL-CM6A-LR']['time'] = daily_efp['IPSL-CM6A-LR']['time']\n",
    "# mslp['IPSL-CM6A-LR'] = mslp['IPSL-CM6A-LR'].transpose('ens_ax', 'time', 'lat', 'lon')\n",
    "\n",
    "# ipsl = xr.merge([daily_efp['IPSL-CM6A-LR'], mslp['IPSL-CM6A-LR']])\n",
    "# ipsl = ipsl[['ubar', 'divFy', 'psl']]  \n",
    "\n",
    "# ipsl.to_netcdf(f'{save_dir}/IPSL-CM6A-LR_1.1_psl_ubar_divFy_daily-efp_r200.nc')\n"
   ]
  },
  {
   "cell_type": "markdown",
   "id": "e2f8689f",
   "metadata": {},
   "source": [
    "---\n",
    "\n",
    "### MIROC6"
   ]
  },
  {
   "cell_type": "code",
   "execution_count": 130,
   "id": "4f561e83",
   "metadata": {},
   "outputs": [],
   "source": [
    "# mslp['MIROC6']['time'] = daily_efp['MIROC6']['time']\n",
    "# mslp['MIROC6'] = mslp['MIROC6'].transpose('ens_ax', 'time', 'lat', 'lon', 'bnds')\n",
    "\n",
    "# miroc = xr.merge([daily_efp['MIROC6'], mslp['MIROC6']])\n",
    "# miroc = miroc[['ubar', 'divFy', 'psl']]  \n",
    "\n",
    "# miroc.to_netcdf(f'{save_dir}/MIROC6_1.1_psl_ubar_divFy_daily-efp_r100.nc')"
   ]
  },
  {
   "cell_type": "markdown",
   "id": "8a3fd8a8",
   "metadata": {},
   "source": [
    "---\n",
    "\n",
    "# Reanalysis"
   ]
  },
  {
   "cell_type": "code",
   "execution_count": 131,
   "id": "88ee8b79",
   "metadata": {},
   "outputs": [],
   "source": [
    "# jra55_mslp = xr.open_dataset('/home/links/ct715/data_storage/reanalysis/jra55_daily/variables/mslp/slp_monthly_jra55_1958_2016.nc')\n",
    "# jra55_uvt = xr.open_dataset('/home/links/ct715/data_storage/reanalysis/jra55_daily/monthly/jra55_uvtw_ubar_ep_monthly.nc')\n",
    "\n",
    "# jra55 = xr.merge([jra55_mslp, jra55_uvt])\n",
    "# jra55 = jra55[['slp', 'ubar', 'div1']]\n",
    "# jra55 = jra55.rename({'slp': 'psl', 'div1': 'divFy'})\n",
    "\n",
    "# jra55.to_netcdf('/home/links/ct715/data_storage/reanalysis/jra55_daily/monthly/jra55_psl_ubar_divFy_monthly_1958-2016.nc')"
   ]
  },
  {
   "cell_type": "code",
   "execution_count": null,
   "id": "fb39934d",
   "metadata": {},
   "outputs": [],
   "source": []
  },
  {
   "cell_type": "code",
   "execution_count": null,
   "id": "33f6c195",
   "metadata": {},
   "outputs": [],
   "source": []
  }
 ],
 "metadata": {
  "kernelspec": {
   "display_name": "Python 3",
   "language": "python",
   "name": "python3"
  },
  "language_info": {
   "codemirror_mode": {
    "name": "ipython",
    "version": 3
   },
   "file_extension": ".py",
   "mimetype": "text/x-python",
   "name": "python",
   "nbconvert_exporter": "python",
   "pygments_lexer": "ipython3",
   "version": "3.10.16"
  }
 },
 "nbformat": 4,
 "nbformat_minor": 5
}
