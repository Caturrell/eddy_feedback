{
 "cells": [
  {
   "cell_type": "code",
   "execution_count": 1,
   "metadata": {},
   "outputs": [],
   "source": [
    "import iris\n",
    "import xarray as xr\n",
    "from pathlib import Path"
   ]
  },
  {
   "cell_type": "code",
   "execution_count": 7,
   "metadata": {},
   "outputs": [
    {
     "data": {
      "text/plain": [
       "PosixPath('/gws/nopw/j04/realproj/users/alwalsh/PAMIP/MASS/zonal_wind/u-ca809')"
      ]
     },
     "execution_count": 7,
     "metadata": {},
     "output_type": "execute_result"
    }
   ],
   "source": [
    "# import path and use pathlib.Path()\n",
    "base_path = '/gws/nopw/j04/realproj/users/alwalsh/PAMIP/MASS/zonal_wind/u-ca809'\n",
    "path = Path(base_path)\n",
    "path"
   ]
  },
  {
   "cell_type": "code",
   "execution_count": 13,
   "metadata": {},
   "outputs": [
    {
     "data": {
      "text/plain": [
       "[PosixPath('/home/users/cturrell/documents/eddy_feedback/.git'),\n",
       " PosixPath('/home/users/cturrell/documents/eddy_feedback/EPflux'),\n",
       " PosixPath('/home/users/cturrell/documents/eddy_feedback/functions'),\n",
       " PosixPath('/home/users/cturrell/documents/eddy_feedback/research'),\n",
       " PosixPath('/home/users/cturrell/documents/eddy_feedback/reproduce'),\n",
       " PosixPath('/home/users/cturrell/documents/eddy_feedback/data_stuff'),\n",
       " PosixPath('/home/users/cturrell/documents/eddy_feedback/plots'),\n",
       " PosixPath('/home/users/cturrell/documents/eddy_feedback/era_TEM_epfy_divF_ubar.nc'),\n",
       " PosixPath('/home/users/cturrell/documents/eddy_feedback/efp_values.csv'),\n",
       " PosixPath('/home/users/cturrell/documents/eddy_feedback/df_merged.csv'),\n",
       " PosixPath('/home/users/cturrell/documents/eddy_feedback/fabricated_data.csv'),\n",
       " PosixPath('/home/users/cturrell/documents/eddy_feedback/test.ipynb'),\n",
       " PosixPath('/home/users/cturrell/documents/eddy_feedback/chapter1'),\n",
       " PosixPath('/home/users/cturrell/documents/eddy_feedback/.gitignore'),\n",
       " PosixPath('/home/users/cturrell/documents/eddy_feedback/eddy_feedback.egg-info'),\n",
       " PosixPath('/home/users/cturrell/documents/eddy_feedback/requirements.txt'),\n",
       " PosixPath('/home/users/cturrell/documents/eddy_feedback/setup.py')]"
      ]
     },
     "execution_count": 13,
     "metadata": {},
     "output_type": "execute_result"
    }
   ],
   "source": [
    "\n",
    "# import path and obtain list of files\n",
    "path = Path('/home/users/cturrell/documents/eddy_feedback')\n",
    "file_list = list(path.iterdir())\n",
    "file_list\n"
   ]
  },
  {
   "cell_type": "code",
   "execution_count": null,
   "metadata": {},
   "outputs": [],
   "source": [
    "\n",
    "for item in file_list:\n",
    "    print(item.name)"
   ]
  },
  {
   "cell_type": "code",
   "execution_count": null,
   "metadata": {},
   "outputs": [],
   "source": []
  }
 ],
 "metadata": {
  "kernelspec": {
   "display_name": "eddy",
   "language": "python",
   "name": "python3"
  },
  "language_info": {
   "codemirror_mode": {
    "name": "ipython",
    "version": 3
   },
   "file_extension": ".py",
   "mimetype": "text/x-python",
   "name": "python",
   "nbconvert_exporter": "python",
   "pygments_lexer": "ipython3",
   "version": "3.12.0"
  }
 },
 "nbformat": 4,
 "nbformat_minor": 2
}
