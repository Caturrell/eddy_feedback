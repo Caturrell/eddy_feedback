{
 "cells": [
  {
   "cell_type": "code",
   "execution_count": 1,
   "metadata": {},
   "outputs": [],
   "source": [
    "import xarray as xr \n",
    "import matplotlib.pyplot as plt\n",
    "import numpy as np\n",
    "import pandas as pd\n",
    "\n",
    "import sys\n",
    "sys.path.append('/home/users/cturrell/documents/eddy_feedback')\n",
    "import functions.eddy_feedback as ef\n",
    "import functions.data_wrangling as data\n",
    "\n",
    "import warnings\n",
    "warnings.filterwarnings(\"ignore\", category=RuntimeWarning, message=\"invalid value encountered in divide\")"
   ]
  },
  {
   "cell_type": "code",
   "execution_count": 2,
   "metadata": {},
   "outputs": [],
   "source": [
    "awi_ds = xr.open_mfdataset('/gws/nopw/j04/arctic_connect/cturrell/PAMIP_data/regridded/pdSST-pdSIC_3x3/3x3_ef_AWI.nc')\n",
    "awi_ds = awi_ds.interp(lat=np.arange(-90,93,3))\n",
    "awi_ds = awi_ds.where(awi_ds.level < 1000.)\n",
    "awi_ds = awi_ds.where(awi_ds.level > 1.)\n",
    "awi_ds = awi_ds.where(awi_ds.lat > -90.)\n",
    "awi_ds = awi_ds.where(awi_ds.lat < 90)\n",
    "awi_efp_north = ef.calculate_efp_pamip(awi_ds, which_div1='div1')\n",
    "awi_efp_south = ef.calculate_efp_pamip(awi_ds, which_div1='div1', calc_south_hemis=True)"
   ]
  },
  {
   "cell_type": "code",
   "execution_count": 3,
   "metadata": {},
   "outputs": [],
   "source": [
    "can_ds = xr.open_mfdataset('/gws/nopw/j04/arctic_connect/cturrell/PAMIP_data/regridded/pdSST-pdSIC_3x3/3x3_ef_CanESM5.nc')\n",
    "can_ds = can_ds.interp(lat=np.arange(-90,93,3))\n",
    "can_ds = can_ds.where(can_ds.level < 1000.)\n",
    "can_ds = can_ds.where(can_ds.level > 1.)\n",
    "can_ds = can_ds.where(can_ds.lat > -90.)\n",
    "can_ds = can_ds.where(can_ds.lat < 90)\n",
    "can_efp_north = ef.calculate_efp_pamip(can_ds, which_div1='div1')\n",
    "can_efp_south = ef.calculate_efp_pamip(can_ds, which_div1='div1', calc_south_hemis=True)"
   ]
  },
  {
   "cell_type": "code",
   "execution_count": 10,
   "metadata": {},
   "outputs": [],
   "source": [
    "cnrm_ds = xr.open_mfdataset('/gws/nopw/j04/arctic_connect/cturrell/PAMIP_data/regridded/pdSST-pdSIC_3x3/3x3_ef_CNRM.nc')\n",
    "# cnrm_ds = cnrm_ds.interp(lat=np.arange(-90,93,3))\n",
    "cnrm_ds = cnrm_ds.where(cnrm_ds.level < 1000.)\n",
    "cnrm_ds = cnrm_ds.where(cnrm_ds.level > 1.)\n",
    "cnrm_ds = cnrm_ds.where(cnrm_ds.lat > -90.)\n",
    "cnrm_ds = cnrm_ds.where(cnrm_ds.lat < 90)\n",
    "cnrm_efp_north = ef.calculate_efp_pamip(cnrm_ds, which_div1='div1')\n",
    "cnrm_efp_south = ef.calculate_efp_pamip(cnrm_ds, which_div1='div1', calc_south_hemis=True)"
   ]
  },
  {
   "cell_type": "code",
   "execution_count": 5,
   "metadata": {},
   "outputs": [],
   "source": [
    "fgoals_ds = xr.open_mfdataset('/gws/nopw/j04/arctic_connect/cturrell/PAMIP_data/regridded/pdSST-pdSIC_3x3/3x3_ef_FGOALS.nc')\n",
    "fgoals_ds = fgoals_ds.interp(lat=np.arange(-90,93,3))\n",
    "fgoals_ds = fgoals_ds.where(fgoals_ds.level < 1000.)\n",
    "fgoals_ds = fgoals_ds.where(fgoals_ds.level > 1.)\n",
    "fgoals_ds = fgoals_ds.where(fgoals_ds.lat > -90.)\n",
    "fgoals_ds = fgoals_ds.where(fgoals_ds.lat < 90)\n",
    "fgoals_efp_north = ef.calculate_efp_pamip(fgoals_ds, which_div1='div1')\n",
    "fgoals_efp_south = ef.calculate_efp_pamip(fgoals_ds, which_div1='div1', calc_south_hemis=True)"
   ]
  },
  {
   "cell_type": "code",
   "execution_count": 6,
   "metadata": {},
   "outputs": [],
   "source": [
    "hadmm_ds = xr.open_mfdataset('/gws/nopw/j04/arctic_connect/cturrell/PAMIP_data/regridded/pdSST-pdSIC_3x3/3x3_ef_HadGEM.nc')\n",
    "hadmm_ds = hadmm_ds.interp(lat=np.arange(-90,93,3))\n",
    "hadmm_ds = hadmm_ds.where(hadmm_ds.level < 1000.)\n",
    "hadmm_ds = hadmm_ds.where(hadmm_ds.level > 1.)\n",
    "hadmm_ds = hadmm_ds.where(hadmm_ds.lat > -90.)\n",
    "hadmm_ds = hadmm_ds.where(hadmm_ds.lat < 90)\n",
    "hadmm_efp_north = ef.calculate_efp_pamip(hadmm_ds, which_div1='div1')\n",
    "hadmm_efp_south = ef.calculate_efp_pamip(hadmm_ds, which_div1='div1', calc_south_hemis=True)"
   ]
  },
  {
   "cell_type": "code",
   "execution_count": 7,
   "metadata": {},
   "outputs": [],
   "source": [
    "ipsl_ds = xr.open_mfdataset('/gws/nopw/j04/arctic_connect/cturrell/PAMIP_data/regridded/pdSST-pdSIC_3x3/3x3_ef_IPSL.nc')\n",
    "ipsl_ds = ipsl_ds.interp(lat=np.arange(-90,93,3))\n",
    "ipsl_ds = ipsl_ds.where(ipsl_ds.level < 1000.)\n",
    "ipsl_ds = ipsl_ds.where(ipsl_ds.level > 1.)\n",
    "ipsl_ds = ipsl_ds.where(ipsl_ds.lat > -90.)\n",
    "ipsl_ds = ipsl_ds.where(ipsl_ds.lat < 90)\n",
    "ipsl_efp_north = ef.calculate_efp_pamip(ipsl_ds, which_div1='div1')\n",
    "ipsl_efp_south = ef.calculate_efp_pamip(ipsl_ds, which_div1='div1', calc_south_hemis=True)"
   ]
  },
  {
   "cell_type": "code",
   "execution_count": 8,
   "metadata": {},
   "outputs": [],
   "source": [
    "miroc_ds = xr.open_mfdataset('/gws/nopw/j04/arctic_connect/cturrell/PAMIP_data/regridded/pdSST-pdSIC_3x3/3x3_ef_MIROC.nc')\n",
    "miroc_ds = miroc_ds.interp(lat=np.arange(-90,93,3))\n",
    "miroc_ds = miroc_ds.where(miroc_ds.level < 1000.)\n",
    "miroc_ds = miroc_ds.where(miroc_ds.level > 1.)\n",
    "miroc_ds = miroc_ds.where(miroc_ds.lat > -90.)\n",
    "miroc_ds = miroc_ds.where(miroc_ds.lat < 90)\n",
    "miroc_efp_north = ef.calculate_efp_pamip(miroc_ds, which_div1='div1')\n",
    "miroc_efp_south = ef.calculate_efp_pamip(miroc_ds, which_div1='div1', calc_south_hemis=True)"
   ]
  },
  {
   "cell_type": "code",
   "execution_count": 11,
   "metadata": {},
   "outputs": [
    {
     "data": {
      "text/html": [
       "<div>\n",
       "<style scoped>\n",
       "    .dataframe tbody tr th:only-of-type {\n",
       "        vertical-align: middle;\n",
       "    }\n",
       "\n",
       "    .dataframe tbody tr th {\n",
       "        vertical-align: top;\n",
       "    }\n",
       "\n",
       "    .dataframe thead th {\n",
       "        text-align: right;\n",
       "    }\n",
       "</style>\n",
       "<table border=\"1\" class=\"dataframe\">\n",
       "  <thead>\n",
       "    <tr style=\"text-align: right;\">\n",
       "      <th></th>\n",
       "      <th>model_name</th>\n",
       "      <th>EFP_north</th>\n",
       "      <th>EFP_south</th>\n",
       "    </tr>\n",
       "  </thead>\n",
       "  <tbody>\n",
       "    <tr>\n",
       "      <th>0</th>\n",
       "      <td>AWI</td>\n",
       "      <td>0.2926</td>\n",
       "      <td>0.2957</td>\n",
       "    </tr>\n",
       "    <tr>\n",
       "      <th>1</th>\n",
       "      <td>CanESM</td>\n",
       "      <td>0.3445</td>\n",
       "      <td>0.3323</td>\n",
       "    </tr>\n",
       "    <tr>\n",
       "      <th>2</th>\n",
       "      <td>CNRM</td>\n",
       "      <td>0.2717</td>\n",
       "      <td>0.2231</td>\n",
       "    </tr>\n",
       "    <tr>\n",
       "      <th>3</th>\n",
       "      <td>FGOALS</td>\n",
       "      <td>0.2754</td>\n",
       "      <td>0.1539</td>\n",
       "    </tr>\n",
       "    <tr>\n",
       "      <th>4</th>\n",
       "      <td>HadGEM-MM</td>\n",
       "      <td>0.1866</td>\n",
       "      <td>0.1974</td>\n",
       "    </tr>\n",
       "    <tr>\n",
       "      <th>5</th>\n",
       "      <td>IPSL</td>\n",
       "      <td>0.3102</td>\n",
       "      <td>0.2274</td>\n",
       "    </tr>\n",
       "    <tr>\n",
       "      <th>6</th>\n",
       "      <td>MIROC</td>\n",
       "      <td>0.1896</td>\n",
       "      <td>0.2220</td>\n",
       "    </tr>\n",
       "  </tbody>\n",
       "</table>\n",
       "</div>"
      ],
      "text/plain": [
       "  model_name  EFP_north  EFP_south\n",
       "0        AWI     0.2926     0.2957\n",
       "1     CanESM     0.3445     0.3323\n",
       "2       CNRM     0.2717     0.2231\n",
       "3     FGOALS     0.2754     0.1539\n",
       "4  HadGEM-MM     0.1866     0.1974\n",
       "5       IPSL     0.3102     0.2274\n",
       "6      MIROC     0.1896     0.2220"
      ]
     },
     "execution_count": 11,
     "metadata": {},
     "output_type": "execute_result"
    }
   ],
   "source": [
    "# create DataFrame for Seaborn\n",
    "EFP_south = [awi_efp_south, can_efp_south, cnrm_efp_south, fgoals_efp_south, hadmm_efp_south, ipsl_efp_south, miroc_efp_south]\n",
    "EFP_north = [awi_efp_north, can_efp_north, cnrm_efp_north, fgoals_efp_north, hadmm_efp_north, ipsl_efp_north, miroc_efp_north]\n",
    "model_name = ['AWI', 'CanESM', 'CNRM', 'FGOALS', 'HadGEM-MM', 'IPSL', 'MIROC']\n",
    "\n",
    "d = {'model_name': model_name, 'EFP_north': EFP_north, 'EFP_south': EFP_south}\n",
    "df = pd.DataFrame(d)\n",
    "df "
   ]
  },
  {
   "cell_type": "code",
   "execution_count": null,
   "metadata": {},
   "outputs": [],
   "source": []
  }
 ],
 "metadata": {
  "kernelspec": {
   "display_name": "eddy",
   "language": "python",
   "name": "python3"
  },
  "language_info": {
   "codemirror_mode": {
    "name": "ipython",
    "version": 3
   },
   "file_extension": ".py",
   "mimetype": "text/x-python",
   "name": "python",
   "nbconvert_exporter": "python",
   "pygments_lexer": "ipython3",
   "version": "3.12.0"
  }
 },
 "nbformat": 4,
 "nbformat_minor": 2
}
