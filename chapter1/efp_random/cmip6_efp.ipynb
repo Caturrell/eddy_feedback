{
 "cells": [
  {
   "cell_type": "markdown",
   "id": "45a6d928",
   "metadata": {},
   "source": [
    "# CMIP6 Eddy Feedback Parameter\n",
    "\n",
    "HadGEM3-GC31-LL and -MM were not processed properly due to chunk size. Error message:\n",
    "- Error during EP flux and monthly mean calculations for HadGEM3-GC31-MM (21600101-21641230.nc): Chunk size must be larger than edge_order + 1. Minimum chunk for axis 2 is 1. Rechunk to proceed.\n",
    "\n",
    "When revisited, rechunk data before continuing. Sorry future me!"
   ]
  },
  {
   "cell_type": "code",
   "execution_count": 1,
   "id": "681abcb1",
   "metadata": {},
   "outputs": [],
   "source": [
    "import xarray as xr\n",
    "import os"
   ]
  },
  {
   "cell_type": "code",
   "execution_count": null,
   "id": "17f115e4",
   "metadata": {},
   "outputs": [],
   "source": []
  }
 ],
 "metadata": {
  "kernelspec": {
   "display_name": "Python 3",
   "language": "python",
   "name": "python3"
  },
  "language_info": {
   "codemirror_mode": {
    "name": "ipython",
    "version": 3
   },
   "file_extension": ".py",
   "mimetype": "text/x-python",
   "name": "python",
   "nbconvert_exporter": "python",
   "pygments_lexer": "ipython3",
   "version": "3.10.16"
  }
 },
 "nbformat": 4,
 "nbformat_minor": 5
}
