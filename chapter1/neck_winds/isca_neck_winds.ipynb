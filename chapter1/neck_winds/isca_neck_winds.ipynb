{
 "cells": [
  {
   "cell_type": "code",
   "execution_count": 1,
   "metadata": {},
   "outputs": [],
   "source": [
    "import xarray as xr\n",
    "from pathlib import Path\n",
    "import pandas as pd\n",
    "import numpy as np\n",
    "import seaborn as sns\n",
    "import matplotlib.pyplot as plt\n",
    "from scipy.stats import pearsonr\n",
    "\n",
    "import functions.eddy_feedback as ef\n",
    "import functions.data_wrangling as data"
   ]
  },
  {
   "cell_type": "markdown",
   "metadata": {},
   "source": [
    "## Import data"
   ]
  },
  {
   "cell_type": "code",
   "execution_count": 2,
   "metadata": {},
   "outputs": [],
   "source": [
    "path = Path('/home/links/ct715/data_storage/isca/regan_sims/polar_vortex')\n",
    "data_files = sorted(path.glob('*.nc'))\n",
    "\n",
    "exp_names = []\n",
    "for item in data_files:\n",
    "    \n",
    "    file_stem = item.stem\n",
    "    exp = file_stem.split('_')[1]\n",
    "    exp_names.append(exp)\n",
    "\n",
    "ds = {}\n",
    "for exp in exp_names:\n",
    "    \n",
    "    data_path = path / f'PK_{exp}_mon_uvt_ep.nc'\n",
    "    \n",
    "    dataset = xr.open_dataset(str(data_path))\n",
    "    dataset['ubar'] = dataset['u'].mean('lon')\n",
    "    # dataset = dataset.sel(time=slice('2002-03', '2041-11'))\n",
    "    ds[exp] = dataset"
   ]
  },
  {
   "cell_type": "code",
   "execution_count": 3,
   "metadata": {},
   "outputs": [
    {
     "data": {
      "text/html": [
       "<div>\n",
       "<style scoped>\n",
       "    .dataframe tbody tr th:only-of-type {\n",
       "        vertical-align: middle;\n",
       "    }\n",
       "\n",
       "    .dataframe tbody tr th {\n",
       "        vertical-align: top;\n",
       "    }\n",
       "\n",
       "    .dataframe thead th {\n",
       "        text-align: right;\n",
       "    }\n",
       "</style>\n",
       "<table border=\"1\" class=\"dataframe\">\n",
       "  <thead>\n",
       "    <tr style=\"text-align: right;\">\n",
       "      <th></th>\n",
       "      <th>experiment</th>\n",
       "      <th>efp</th>\n",
       "    </tr>\n",
       "  </thead>\n",
       "  <tbody>\n",
       "    <tr>\n",
       "      <th>0</th>\n",
       "      <td>e0v1z13</td>\n",
       "      <td>0.1724</td>\n",
       "    </tr>\n",
       "    <tr>\n",
       "      <th>1</th>\n",
       "      <td>e0v2z13</td>\n",
       "      <td>0.1803</td>\n",
       "    </tr>\n",
       "    <tr>\n",
       "      <th>2</th>\n",
       "      <td>e0v3z13</td>\n",
       "      <td>0.1434</td>\n",
       "    </tr>\n",
       "    <tr>\n",
       "      <th>3</th>\n",
       "      <td>e0v4z13</td>\n",
       "      <td>0.2272</td>\n",
       "    </tr>\n",
       "    <tr>\n",
       "      <th>4</th>\n",
       "      <td>e0v5z13</td>\n",
       "      <td>0.2138</td>\n",
       "    </tr>\n",
       "    <tr>\n",
       "      <th>5</th>\n",
       "      <td>e0v6z13</td>\n",
       "      <td>0.2532</td>\n",
       "    </tr>\n",
       "  </tbody>\n",
       "</table>\n",
       "</div>"
      ],
      "text/plain": [
       "  experiment     efp\n",
       "0    e0v1z13  0.1724\n",
       "1    e0v2z13  0.1803\n",
       "2    e0v3z13  0.1434\n",
       "3    e0v4z13  0.2272\n",
       "4    e0v5z13  0.2138\n",
       "5    e0v6z13  0.2532"
      ]
     },
     "execution_count": 3,
     "metadata": {},
     "output_type": "execute_result"
    }
   ],
   "source": [
    "efp = {'experiment': [], 'efp': []}\n",
    "\n",
    "for exp in exp_names:\n",
    "    efp_value = ef.calculate_efp(ds[exp], data_type='isca')\n",
    "    efp['experiment'].append(exp)\n",
    "    efp['efp'].append(efp_value)\n",
    "\n",
    "df = pd.DataFrame(efp)\n",
    "df"
   ]
  },
  {
   "cell_type": "code",
   "execution_count": 4,
   "metadata": {},
   "outputs": [
    {
     "data": {
      "text/html": [
       "<div>\n",
       "<style scoped>\n",
       "    .dataframe tbody tr th:only-of-type {\n",
       "        vertical-align: middle;\n",
       "    }\n",
       "\n",
       "    .dataframe tbody tr th {\n",
       "        vertical-align: top;\n",
       "    }\n",
       "\n",
       "    .dataframe thead th {\n",
       "        text-align: right;\n",
       "    }\n",
       "</style>\n",
       "<table border=\"1\" class=\"dataframe\">\n",
       "  <thead>\n",
       "    <tr style=\"text-align: right;\">\n",
       "      <th></th>\n",
       "      <th>experiment</th>\n",
       "      <th>efp</th>\n",
       "      <th>neck_wind</th>\n",
       "    </tr>\n",
       "  </thead>\n",
       "  <tbody>\n",
       "    <tr>\n",
       "      <th>0</th>\n",
       "      <td>e0v1z13</td>\n",
       "      <td>0.1724</td>\n",
       "      <td>NaN</td>\n",
       "    </tr>\n",
       "    <tr>\n",
       "      <th>1</th>\n",
       "      <td>e0v2z13</td>\n",
       "      <td>0.1803</td>\n",
       "      <td>NaN</td>\n",
       "    </tr>\n",
       "    <tr>\n",
       "      <th>2</th>\n",
       "      <td>e0v3z13</td>\n",
       "      <td>0.1434</td>\n",
       "      <td>NaN</td>\n",
       "    </tr>\n",
       "    <tr>\n",
       "      <th>3</th>\n",
       "      <td>e0v4z13</td>\n",
       "      <td>0.2272</td>\n",
       "      <td>NaN</td>\n",
       "    </tr>\n",
       "    <tr>\n",
       "      <th>4</th>\n",
       "      <td>e0v5z13</td>\n",
       "      <td>0.2138</td>\n",
       "      <td>NaN</td>\n",
       "    </tr>\n",
       "    <tr>\n",
       "      <th>5</th>\n",
       "      <td>e0v6z13</td>\n",
       "      <td>0.2532</td>\n",
       "      <td>NaN</td>\n",
       "    </tr>\n",
       "  </tbody>\n",
       "</table>\n",
       "</div>"
      ],
      "text/plain": [
       "  experiment     efp  neck_wind\n",
       "0    e0v1z13  0.1724        NaN\n",
       "1    e0v2z13  0.1803        NaN\n",
       "2    e0v3z13  0.1434        NaN\n",
       "3    e0v4z13  0.2272        NaN\n",
       "4    e0v5z13  0.2138        NaN\n",
       "5    e0v6z13  0.2532        NaN"
      ]
     },
     "execution_count": 4,
     "metadata": {},
     "output_type": "execute_result"
    }
   ],
   "source": [
    "df['neck_wind'] = np.nan\n",
    "df"
   ]
  },
  {
   "cell_type": "code",
   "execution_count": 5,
   "metadata": {},
   "outputs": [],
   "source": [
    "neck_winds = {}\n",
    "for exp in exp_names:\n",
    "    \n",
    "    ubar = ds[exp].ubar\n",
    "    ubar = data.seasonal_mean(ubar, season='djf')\n",
    "    ubar = ubar.mean('time')\n",
    "    \n",
    "    u_neck = ubar.sel(level=70, method='nearest').sel(lat=slice(45,55)).mean('lat')\n",
    "    # neck_winds[exp] = np.mean(u_neck.values).round(3)\n",
    "    df.loc[df['experiment'] == exp, 'neck_wind'] = np.mean(u_neck.values).round(3)"
   ]
  },
  {
   "cell_type": "code",
   "execution_count": 6,
   "metadata": {},
   "outputs": [
    {
     "data": {
      "image/png": "[encoded data removed]",
      "text/plain": [
       "<Figure size 900x500 with 1 Axes>"
      ]
     },
     "metadata": {},
     "output_type": "display_data"
    }
   ],
   "source": [
    "fig, ax = plt.subplots(figsize=(9,5))\n",
    "\n",
    "# Function to compute and add Pearson correlation\n",
    "def add_correlation(ax, x, y):\n",
    "    corr, _ = pearsonr(x, y)  # Compute Pearson correlation\n",
    "    ax.text(0.05, 0.95, f\"r = {corr:.2f}\", transform=ax.transAxes, \n",
    "            fontsize=12, verticalalignment=\"top\", bbox=dict(facecolor=\"white\", alpha=0.7))\n",
    "\n",
    "sns.scatterplot(\n",
    "    x=df['efp'],\n",
    "    y=df['neck_wind'],\n",
    "    hue=df['experiment'],\n",
    "    style=df['experiment'],\n",
    "    s=100,\n",
    "    ax=ax\n",
    ")\n",
    "sns.regplot(\n",
    "    x=df['efp'],\n",
    "    y=df['neck_wind'],\n",
    "    scatter=False,\n",
    "    color='k',\n",
    "    # ci=None,\n",
    "    ax=ax\n",
    ")\n",
    "\n",
    "# Add correlation to the figure\n",
    "add_correlation(ax, df['efp'], df['neck_wind'])\n",
    "\n",
    "# Add legend and adjust layout\n",
    "plt.legend(bbox_to_anchor=(1.05, 1), loc=\"upper left\")\n",
    "plt.tight_layout()\n",
    "plt.show()"
   ]
  },
  {
   "cell_type": "code",
   "execution_count": null,
   "metadata": {},
   "outputs": [],
   "source": []
  }
 ],
 "metadata": {
  "kernelspec": {
   "display_name": "Python 3",
   "language": "python",
   "name": "python3"
  },
  "language_info": {
   "codemirror_mode": {
    "name": "ipython",
    "version": 3
   },
   "file_extension": ".py",
   "mimetype": "text/x-python",
   "name": "python",
   "nbconvert_exporter": "python",
   "pygments_lexer": "ipython3",
   "version": "3.12.0"
  }
 },
 "nbformat": 4,
 "nbformat_minor": 2
}
