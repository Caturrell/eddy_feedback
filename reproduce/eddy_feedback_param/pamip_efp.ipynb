{
 "cells": [
  {
   "cell_type": "code",
   "execution_count": 2,
   "metadata": {},
   "outputs": [],
   "source": [
    "import xarray as xr \n",
    "import numpy as np\n",
    "import matplotlib.pyplot as plt\n",
    "\n",
    "import sys\n",
    "sys.path.append('/home/users/cturrell/documents/eddy_feedback')\n",
    "import functions.data_wrangling as data\n",
    "import functions.eddy_feedback as ef\n",
    "\n",
    "import warnings\n",
    "warnings.filterwarnings(\"ignore\", category=RuntimeWarning, message=\"invalid value encountered in divide\")"
   ]
  },
  {
   "cell_type": "markdown",
   "metadata": {},
   "source": [
    "# PAMIP Individual Models"
   ]
  },
  {
   "cell_type": "markdown",
   "metadata": {},
   "source": [
    "### CanESM5"
   ]
  },
  {
   "cell_type": "code",
   "execution_count": 3,
   "metadata": {},
   "outputs": [
    {
     "name": "stdout",
     "output_type": "stream",
     "text": [
      "CanESM5 NH Eddy Feedback: 0.4255\n",
      "CanESM5 SH Eddy Feedback: 0.4634\n"
     ]
    }
   ],
   "source": [
    "can_ds = xr.open_mfdataset('/gws/nopw/j04/arctic_connect/cturrell/PAMIP_data/processed_monthly/CanESM5*.nc',\n",
    "                           parallel=True, chunks={'time':12, 'ens_ax':50})\n",
    "\n",
    "# Calculate EFP\n",
    "can_efp = ef.calculate_efp_pamip(can_ds)\n",
    "can_efp_south = ef.calculate_efp_pamip(can_ds, calc_south_hemis=True)\n",
    "model_can = 'CanESM5'\n",
    "print(f'{model_can} NH Eddy Feedback: {can_efp}\\n{model_can} SH Eddy Feedback: {can_efp_south}')"
   ]
  },
  {
   "cell_type": "markdown",
   "metadata": {},
   "source": [
    "### CESM2"
   ]
  },
  {
   "cell_type": "code",
   "execution_count": 4,
   "metadata": {},
   "outputs": [
    {
     "name": "stdout",
     "output_type": "stream",
     "text": [
      "CESM2 NH Eddy Feedback: 0.3978\n",
      "CESM2 SH Eddy Feedback: 0.3548\n"
     ]
    }
   ],
   "source": [
    "cesm2_ds = xr.open_mfdataset('/gws/nopw/j04/arctic_connect/cturrell/PAMIP_data/processed_monthly/CESM2*.nc',\n",
    "                           parallel=True, chunks={'time':12, 'ens_ax':50})\n",
    "\n",
    "# Calculate EFP\n",
    "cesm2_efp = ef.calculate_efp_pamip(cesm2_ds)\n",
    "cesm2_efp_south = ef.calculate_efp_pamip(cesm2_ds, calc_south_hemis=True)\n",
    "model_cesm2 = 'CESM2'\n",
    "print(f'{model_cesm2} NH Eddy Feedback: {cesm2_efp}\\n{model_cesm2} SH Eddy Feedback: {cesm2_efp_south}')"
   ]
  },
  {
   "cell_type": "markdown",
   "metadata": {},
   "source": [
    "### CNRM-CM6-1"
   ]
  },
  {
   "cell_type": "code",
   "execution_count": 5,
   "metadata": {},
   "outputs": [
    {
     "name": "stdout",
     "output_type": "stream",
     "text": [
      "CNRM-CM6-1 NH Eddy Feedback: 0.2733\n",
      "CNRM-CM6-1 SH Eddy Feedback: 0.2386\n"
     ]
    }
   ],
   "source": [
    "cnrm_ds = xr.open_mfdataset('/gws/nopw/j04/arctic_connect/cturrell/PAMIP_data/processed_monthly/CNRM*.nc',\n",
    "                           parallel=True, chunks={'time':12, 'ens_ax':50})\n",
    "\n",
    "# Calculate EFP\n",
    "cnrm_efp = ef.calculate_efp_pamip(cnrm_ds)\n",
    "cnrm_efp_south = ef.calculate_efp_pamip(cnrm_ds, calc_south_hemis=True)\n",
    "model_cnrm = 'CNRM-CM6-1'\n",
    "print(f'{model_cnrm} NH Eddy Feedback: {cnrm_efp}\\n{model_cnrm} SH Eddy Feedback: {cnrm_efp_south}')"
   ]
  },
  {
   "cell_type": "markdown",
   "metadata": {},
   "source": [
    "### E3SMv1"
   ]
  },
  {
   "cell_type": "code",
   "execution_count": 6,
   "metadata": {},
   "outputs": [
    {
     "name": "stdout",
     "output_type": "stream",
     "text": [
      "E3SMv1 NH Eddy Feedback: 0.0554\n",
      "E3SMv1 SH Eddy Feedback: 0.0594\n"
     ]
    }
   ],
   "source": [
    "e3sm_ds = xr.open_mfdataset('/gws/nopw/j04/arctic_connect/cturrell/PAMIP_data/processed_monthly/E3SMv1_ua_epfy_divF_r200_3x3.nc')\n",
    "\n",
    "# calculate EFP\n",
    "e3sm_efp = ef.calculate_efp_pamip(e3sm_ds, usual_mean=False)\n",
    "e3sm_efp_south = ef.calculate_efp_pamip(e3sm_ds, calc_south_hemis=True, usual_mean=False)\n",
    "\n",
    "model_e3sm = 'E3SMv1'\n",
    "print(f'{model_e3sm} NH Eddy Feedback: {e3sm_efp}\\n{model_e3sm} SH Eddy Feedback: {e3sm_efp_south}')"
   ]
  },
  {
   "cell_type": "markdown",
   "metadata": {},
   "source": [
    "### EC-EARTH3"
   ]
  },
  {
   "cell_type": "code",
   "execution_count": 7,
   "metadata": {},
   "outputs": [
    {
     "name": "stdout",
     "output_type": "stream",
     "text": [
      "EC-EARTH3 NH Eddy Feedback: 0.3365\n",
      "EC-EARTH3 SH Eddy Feedback: 0.348\n"
     ]
    }
   ],
   "source": [
    "ecearth_ds = xr.open_mfdataset('/gws/nopw/j04/arctic_connect/cturrell/PAMIP_data/processed_monthly/EC-EARTH3*.nc',\n",
    "                           parallel=True, chunks={'time':12, 'ens_ax':50})\n",
    "\n",
    "# Calculate EFP\n",
    "ecearth_efp = ef.calculate_efp_pamip(ecearth_ds)\n",
    "ecearth_efp_south = ef.calculate_efp_pamip(ecearth_ds, calc_south_hemis=True)\n",
    "model_ecearth = 'EC-EARTH3'\n",
    "print(f'{model_ecearth} NH Eddy Feedback: {ecearth_efp}\\n{model_ecearth} SH Eddy Feedback: {ecearth_efp_south}')"
   ]
  },
  {
   "cell_type": "markdown",
   "metadata": {},
   "source": [
    "### ECHAM6.3 (AWI)"
   ]
  },
  {
   "cell_type": "code",
   "execution_count": 8,
   "metadata": {},
   "outputs": [
    {
     "name": "stdout",
     "output_type": "stream",
     "text": [
      "ECHAM6.3_AWI NH Eddy Feedback: 0.0132\n",
      "ECHAM6.3_AWI SH Eddy Feedback: 0.0099\n"
     ]
    }
   ],
   "source": [
    "awi_ds = xr.open_mfdataset('/gws/nopw/j04/arctic_connect/cturrell/PAMIP_data/processed_monthly/ECHAM6.3_AWI_ua_epfy_divF_r200_3x3.nc',\n",
    "                           parallel=True, chunks={'time':12, 'ens_ax':50})\n",
    "\n",
    "# Calculate EFP\n",
    "awi_efp = ef.calculate_efp_pamip(awi_ds)\n",
    "awi_efp_south = ef.calculate_efp_pamip(awi_ds, calc_south_hemis=True)\n",
    "model_awi = 'ECHAM6.3_AWI'\n",
    "print(f'{model_awi} NH Eddy Feedback: {awi_efp}\\n{model_awi} SH Eddy Feedback: {awi_efp_south}')"
   ]
  },
  {
   "cell_type": "markdown",
   "metadata": {},
   "source": [
    "### FGOALS-f3-L"
   ]
  },
  {
   "cell_type": "code",
   "execution_count": 9,
   "metadata": {},
   "outputs": [
    {
     "name": "stdout",
     "output_type": "stream",
     "text": [
      "FGOALS-f3-L NH Eddy Feedback: 0.2621\n",
      "FGOALS-f3-L SH Eddy Feedback: 0.142\n"
     ]
    }
   ],
   "source": [
    "fgoals_ds = xr.open_mfdataset('/gws/nopw/j04/arctic_connect/cturrell/PAMIP_data/processed_monthly/FGOALS-f3-L*.nc',\n",
    "                           parallel=True, chunks={'time':12, 'ens_ax':50})\n",
    "\n",
    "# Calculate EFP\n",
    "fgoals_efp = ef.calculate_efp_pamip(fgoals_ds)\n",
    "fgoals_efp_south = ef.calculate_efp_pamip(fgoals_ds, calc_south_hemis=True)\n",
    "model_fgoals = 'FGOALS-f3-L'\n",
    "print(f'{model_fgoals} NH Eddy Feedback: {fgoals_efp}\\n{model_fgoals} SH Eddy Feedback: {fgoals_efp_south}')"
   ]
  },
  {
   "cell_type": "markdown",
   "metadata": {},
   "source": [
    "### HadGEM3-GC31-LL"
   ]
  },
  {
   "cell_type": "code",
   "execution_count": 10,
   "metadata": {},
   "outputs": [
    {
     "name": "stdout",
     "output_type": "stream",
     "text": [
      "HadGEM3-GC31-LL NH Eddy Feedback: 0.3018\n",
      "HadGEM3-GC31-LL SH Eddy Feedback: 0.3276\n"
     ]
    }
   ],
   "source": [
    "hadll_ds = xr.open_mfdataset('/gws/nopw/j04/arctic_connect/cturrell/PAMIP_data/processed_monthly/HadGEM3-GC31-LL*.nc',\n",
    "                           parallel=True, chunks={'time':12, 'ens_ax':50})\n",
    "\n",
    "# Calculate EFP\n",
    "hadll_efp = ef.calculate_efp_pamip(hadll_ds)\n",
    "hadll_efp_south = ef.calculate_efp_pamip(hadll_ds, calc_south_hemis=True)\n",
    "model_hadll = 'HadGEM3-GC31-LL'\n",
    "print(f'{model_hadll} NH Eddy Feedback: {hadll_efp}\\n{model_hadll} SH Eddy Feedback: {hadll_efp_south}')"
   ]
  },
  {
   "cell_type": "markdown",
   "metadata": {},
   "source": [
    "### HadGEM3-GC31-MM"
   ]
  },
  {
   "cell_type": "code",
   "execution_count": 11,
   "metadata": {},
   "outputs": [
    {
     "name": "stdout",
     "output_type": "stream",
     "text": [
      "HadGEM3-GC31-MM NH Eddy Feedback: 0.3616\n",
      "HadGEM3-GC31-MM SH Eddy Feedback: 0.3474\n"
     ]
    }
   ],
   "source": [
    "hadmm_ds = xr.open_mfdataset('/gws/nopw/j04/arctic_connect/cturrell/PAMIP_data/processed_monthly/HadGEM3-GC31-MM*.nc',\n",
    "                           parallel=True, chunks={'time':12, 'ens_ax':50})\n",
    "\n",
    "# Calculate EFP\n",
    "hadmm_efp = ef.calculate_efp_pamip(hadmm_ds)\n",
    "hadmm_efp_south = ef.calculate_efp_pamip(hadmm_ds, calc_south_hemis=True)\n",
    "model_hadmm = 'HadGEM3-GC31-MM'\n",
    "print(f'{model_hadmm} NH Eddy Feedback: {hadmm_efp}\\n{model_hadmm} SH Eddy Feedback: {hadmm_efp_south}')"
   ]
  },
  {
   "cell_type": "markdown",
   "metadata": {},
   "source": [
    "### IPSL-CM6A-LR"
   ]
  },
  {
   "cell_type": "code",
   "execution_count": 12,
   "metadata": {},
   "outputs": [
    {
     "name": "stdout",
     "output_type": "stream",
     "text": [
      "IPSL-CM6A-LR NH Eddy Feedback: 0.3099\n",
      "IPSL-CM6A-LR SH Eddy Feedback: 0.2262\n"
     ]
    }
   ],
   "source": [
    "ipsl_ds = xr.open_mfdataset('/gws/nopw/j04/arctic_connect/cturrell/PAMIP_data/processed_monthly/IPSL-CM6A-LR_ua_epfy_divF_r200_3x3.nc',\n",
    "                            parallel=True, chunks={'time':12, 'ens_ax':50})\n",
    "\n",
    "# Calculate EFP\n",
    "ipsl_efp = ef.calculate_efp_pamip(ipsl_ds)\n",
    "ipsl_efp_south = ef.calculate_efp_pamip(ipsl_ds, calc_south_hemis=True)\n",
    "model_ipsl = 'IPSL-CM6A-LR'\n",
    "print(f'{model_ipsl} NH Eddy Feedback: {ipsl_efp}\\n{model_ipsl} SH Eddy Feedback: {ipsl_efp_south}')"
   ]
  },
  {
   "cell_type": "markdown",
   "metadata": {},
   "source": [
    "### MIROC6"
   ]
  },
  {
   "cell_type": "code",
   "execution_count": 13,
   "metadata": {},
   "outputs": [
    {
     "name": "stdout",
     "output_type": "stream",
     "text": [
      "MIROC6 NH Eddy Feedback: 0.2469\n",
      "MIROC6 SH Eddy Feedback: 0.3547\n"
     ]
    }
   ],
   "source": [
    "miroc_ds = xr.open_mfdataset('/gws/nopw/j04/arctic_connect/cturrell/PAMIP_data/processed_monthly/MIROC6*.nc',\n",
    "                           parallel=True, chunks={'time':12, 'ens_ax':50})\n",
    "\n",
    "# Calculate EFP\n",
    "miroc_efp = ef.calculate_efp_pamip(miroc_ds)\n",
    "miroc_efp_south = ef.calculate_efp_pamip(miroc_ds, calc_south_hemis=True)\n",
    "model_miroc = 'MIROC6'\n",
    "print(f'{model_miroc} NH Eddy Feedback: {miroc_efp}\\n{model_miroc} SH Eddy Feedback: {miroc_efp_south}')"
   ]
  },
  {
   "cell_type": "markdown",
   "metadata": {},
   "source": [
    "### NorESM2-LM"
   ]
  },
  {
   "cell_type": "code",
   "execution_count": 14,
   "metadata": {},
   "outputs": [
    {
     "name": "stdout",
     "output_type": "stream",
     "text": [
      "NorESM2-LM NH Eddy Feedback: 0.3354\n",
      "NorESM2-LM SH Eddy Feedback: 0.3837\n"
     ]
    }
   ],
   "source": [
    "nor_ds = xr.open_mfdataset('/gws/nopw/j04/arctic_connect/cturrell/PAMIP_data/processed_monthly/NorESM2-LM*.nc',\n",
    "                           parallel=True, chunks={'time':12, 'ens_ax':50})\n",
    "\n",
    "# Calculate EFP\n",
    "nor_efp = ef.calculate_efp_pamip(nor_ds)\n",
    "nor_efp_south = ef.calculate_efp_pamip(nor_ds, calc_south_hemis=True)\n",
    "model_nor = 'NorESM2-LM'\n",
    "print(f'{model_nor} NH Eddy Feedback: {nor_efp}\\n{model_nor} SH Eddy Feedback: {nor_efp_south}')"
   ]
  },
  {
   "cell_type": "markdown",
   "metadata": {},
   "source": [
    "### OpenIFS-159"
   ]
  },
  {
   "cell_type": "code",
   "execution_count": 15,
   "metadata": {},
   "outputs": [
    {
     "name": "stdout",
     "output_type": "stream",
     "text": [
      "OpenIFS-159 NH Eddy Feedback: 0.3636\n",
      "OpenIFS-159 SH Eddy Feedback: 0.3588\n"
     ]
    }
   ],
   "source": [
    "t159_ds = xr.open_mfdataset('/gws/nopw/j04/arctic_connect/cturrell/PAMIP_data/processed_monthly/OpenIFS-159*.nc',\n",
    "                           parallel=True, chunks={'time':12, 'ens_ax':50})\n",
    "\n",
    "# Calculate EFP\n",
    "t159_efp = ef.calculate_efp_pamip(t159_ds)\n",
    "t159_efp_south = ef.calculate_efp_pamip(t159_ds, calc_south_hemis=True)\n",
    "model_t159 = 'OpenIFS-159'\n",
    "print(f'{model_t159} NH Eddy Feedback: {t159_efp}\\n{model_t159} SH Eddy Feedback: {t159_efp_south}')"
   ]
  },
  {
   "cell_type": "markdown",
   "metadata": {},
   "source": [
    "### OpenIFS-511"
   ]
  },
  {
   "cell_type": "code",
   "execution_count": 16,
   "metadata": {},
   "outputs": [
    {
     "name": "stdout",
     "output_type": "stream",
     "text": [
      "OpenIFS-511 NH Eddy Feedback: 0.269\n",
      "OpenIFS-511 SH Eddy Feedback: 0.3391\n"
     ]
    }
   ],
   "source": [
    "t511_ds = xr.open_mfdataset('/gws/nopw/j04/arctic_connect/cturrell/PAMIP_data/processed_monthly/OpenIFS-511*.nc',\n",
    "                           parallel=True, chunks={'time':12, 'ens_ax':50})\n",
    "\n",
    "# Calculate EFP\n",
    "t511_efp = ef.calculate_efp_pamip(t511_ds)\n",
    "t511_efp_south = ef.calculate_efp_pamip(t511_ds, calc_south_hemis=True)\n",
    "model_t511 = 'OpenIFS-511'\n",
    "print(f'{model_t511} NH Eddy Feedback: {t511_efp}\\n{model_t511} SH Eddy Feedback: {t511_efp_south}')"
   ]
  },
  {
   "cell_type": "markdown",
   "metadata": {},
   "source": [
    "### OpenIFS-1279\n",
    "\n",
    "Data incomplete - Rosie didn't calculate EFP either."
   ]
  },
  {
   "cell_type": "markdown",
   "metadata": {},
   "source": [
    "### CESM1"
   ]
  },
  {
   "cell_type": "code",
   "execution_count": 17,
   "metadata": {},
   "outputs": [
    {
     "name": "stdout",
     "output_type": "stream",
     "text": [
      "CESM1-WACCM-SC NH Eddy Feedback: 0.1352\n",
      "CESM1-WACCM-SC SH Eddy Feedback: 0.0308\n"
     ]
    }
   ],
   "source": [
    "cesm1_ds = xr.open_mfdataset('/gws/nopw/j04/arctic_connect/cturrell/PAMIP_data/processed_monthly/CESM1*.nc')\n",
    "\n",
    "# calculate EFP\n",
    "cesm1_efp = ef.calculate_efp_pamip(cesm1_ds, usual_mean=False)\n",
    "cesm1_efp_south = ef.calculate_efp_pamip(cesm1_ds, calc_south_hemis=True, usual_mean=False)\n",
    "\n",
    "model_cesm1 = 'CESM1-WACCM-SC'\n",
    "print(f'{model_cesm1} NH Eddy Feedback: {cesm1_efp}\\n{model_cesm1} SH Eddy Feedback: {cesm1_efp_south}')"
   ]
  },
  {
   "cell_type": "markdown",
   "metadata": {},
   "source": [
    "## Table"
   ]
  },
  {
   "cell_type": "code",
   "execution_count": 18,
   "metadata": {},
   "outputs": [
    {
     "data": {
      "text/html": [
       "<div>\n",
       "<style scoped>\n",
       "    .dataframe tbody tr th:only-of-type {\n",
       "        vertical-align: middle;\n",
       "    }\n",
       "\n",
       "    .dataframe tbody tr th {\n",
       "        vertical-align: top;\n",
       "    }\n",
       "\n",
       "    .dataframe thead th {\n",
       "        text-align: right;\n",
       "    }\n",
       "</style>\n",
       "<table border=\"1\" class=\"dataframe\">\n",
       "  <thead>\n",
       "    <tr style=\"text-align: right;\">\n",
       "      <th></th>\n",
       "      <th>Model</th>\n",
       "      <th>NH Feedback (DJF)</th>\n",
       "      <th>SH Feedback (JAS)</th>\n",
       "    </tr>\n",
       "  </thead>\n",
       "  <tbody>\n",
       "    <tr>\n",
       "      <th>0</th>\n",
       "      <td>CanESM5</td>\n",
       "      <td>0.4255</td>\n",
       "      <td>0.4634</td>\n",
       "    </tr>\n",
       "    <tr>\n",
       "      <th>1</th>\n",
       "      <td>CESM2</td>\n",
       "      <td>0.3978</td>\n",
       "      <td>0.3548</td>\n",
       "    </tr>\n",
       "    <tr>\n",
       "      <th>2</th>\n",
       "      <td>CNRM-CM6-1</td>\n",
       "      <td>0.2733</td>\n",
       "      <td>0.2386</td>\n",
       "    </tr>\n",
       "    <tr>\n",
       "      <th>3</th>\n",
       "      <td>E3SMv1</td>\n",
       "      <td>0.0554</td>\n",
       "      <td>0.0594</td>\n",
       "    </tr>\n",
       "    <tr>\n",
       "      <th>4</th>\n",
       "      <td>EC-EARTH3</td>\n",
       "      <td>0.3365</td>\n",
       "      <td>0.3480</td>\n",
       "    </tr>\n",
       "    <tr>\n",
       "      <th>5</th>\n",
       "      <td>ECHAM6.3_AWI</td>\n",
       "      <td>0.0132</td>\n",
       "      <td>0.0099</td>\n",
       "    </tr>\n",
       "    <tr>\n",
       "      <th>6</th>\n",
       "      <td>FGOALS-f3-L</td>\n",
       "      <td>0.2621</td>\n",
       "      <td>0.1420</td>\n",
       "    </tr>\n",
       "    <tr>\n",
       "      <th>7</th>\n",
       "      <td>HadGEM3-GC31-LL</td>\n",
       "      <td>0.3018</td>\n",
       "      <td>0.3276</td>\n",
       "    </tr>\n",
       "    <tr>\n",
       "      <th>8</th>\n",
       "      <td>HadGEM3-GC31-MM</td>\n",
       "      <td>0.3616</td>\n",
       "      <td>0.3474</td>\n",
       "    </tr>\n",
       "    <tr>\n",
       "      <th>9</th>\n",
       "      <td>IPSL-CM6A-LR</td>\n",
       "      <td>0.3099</td>\n",
       "      <td>0.2262</td>\n",
       "    </tr>\n",
       "    <tr>\n",
       "      <th>10</th>\n",
       "      <td>MIROC6</td>\n",
       "      <td>0.2469</td>\n",
       "      <td>0.3547</td>\n",
       "    </tr>\n",
       "    <tr>\n",
       "      <th>11</th>\n",
       "      <td>NorESM2-LM</td>\n",
       "      <td>0.3354</td>\n",
       "      <td>0.3837</td>\n",
       "    </tr>\n",
       "    <tr>\n",
       "      <th>12</th>\n",
       "      <td>OpenIFS-159</td>\n",
       "      <td>0.3636</td>\n",
       "      <td>0.3588</td>\n",
       "    </tr>\n",
       "    <tr>\n",
       "      <th>13</th>\n",
       "      <td>OpenIFS-511</td>\n",
       "      <td>0.2690</td>\n",
       "      <td>0.3391</td>\n",
       "    </tr>\n",
       "    <tr>\n",
       "      <th>14</th>\n",
       "      <td>CESM1-WACCM-SC</td>\n",
       "      <td>0.1352</td>\n",
       "      <td>0.0308</td>\n",
       "    </tr>\n",
       "  </tbody>\n",
       "</table>\n",
       "</div>"
      ],
      "text/plain": [
       "              Model  NH Feedback (DJF)  SH Feedback (JAS)\n",
       "0           CanESM5             0.4255             0.4634\n",
       "1             CESM2             0.3978             0.3548\n",
       "2        CNRM-CM6-1             0.2733             0.2386\n",
       "3            E3SMv1             0.0554             0.0594\n",
       "4         EC-EARTH3             0.3365             0.3480\n",
       "5      ECHAM6.3_AWI             0.0132             0.0099\n",
       "6       FGOALS-f3-L             0.2621             0.1420\n",
       "7   HadGEM3-GC31-LL             0.3018             0.3276\n",
       "8   HadGEM3-GC31-MM             0.3616             0.3474\n",
       "9      IPSL-CM6A-LR             0.3099             0.2262\n",
       "10           MIROC6             0.2469             0.3547\n",
       "11       NorESM2-LM             0.3354             0.3837\n",
       "12      OpenIFS-159             0.3636             0.3588\n",
       "13      OpenIFS-511             0.2690             0.3391\n",
       "14   CESM1-WACCM-SC             0.1352             0.0308"
      ]
     },
     "execution_count": 18,
     "metadata": {},
     "output_type": "execute_result"
    }
   ],
   "source": [
    "import pandas as pd\n",
    "\n",
    "# Data\n",
    "model_list = [model_can, model_cesm2, model_cnrm, model_e3sm, model_ecearth, model_awi, model_fgoals, \n",
    "              model_hadll, model_hadmm, model_ipsl, model_miroc, model_nor, \n",
    "              model_t159, model_t511, model_cesm1]\n",
    "\n",
    "efp_djf = [can_efp, cesm2_efp, cnrm_efp, e3sm_efp, ecearth_efp, awi_efp, fgoals_efp,\n",
    "           hadll_efp, hadmm_efp, ipsl_efp, miroc_efp, nor_efp, t159_efp,\n",
    "           t511_efp, cesm1_efp]\n",
    "efp_jas = [can_efp_south, cesm2_efp_south, cnrm_efp_south, e3sm_efp_south, ecearth_efp_south, awi_efp_south, fgoals_efp_south,\n",
    "           hadll_efp_south, hadmm_efp_south, ipsl_efp_south, miroc_efp_south, nor_efp_south, t159_efp_south,\n",
    "           t511_efp_south, cesm1_efp_south]\n",
    "\n",
    "# Create DataFrame\n",
    "pd_data = {'Model': model_list, 'NH Feedback (DJF)': efp_djf, 'SH Feedback (JAS)': efp_jas}\n",
    "df = pd.DataFrame(pd_data)\n",
    "\n",
    "df"
   ]
  },
  {
   "cell_type": "code",
   "execution_count": 20,
   "metadata": {},
   "outputs": [
    {
     "data": {
      "text/html": [
       "<div>\n",
       "<style scoped>\n",
       "    .dataframe tbody tr th:only-of-type {\n",
       "        vertical-align: middle;\n",
       "    }\n",
       "\n",
       "    .dataframe tbody tr th {\n",
       "        vertical-align: top;\n",
       "    }\n",
       "\n",
       "    .dataframe thead th {\n",
       "        text-align: right;\n",
       "    }\n",
       "</style>\n",
       "<table border=\"1\" class=\"dataframe\">\n",
       "  <thead>\n",
       "    <tr style=\"text-align: right;\">\n",
       "      <th></th>\n",
       "      <th>Model</th>\n",
       "      <th>NH Feedback (DJF)</th>\n",
       "      <th>SH Feedback (JAS)</th>\n",
       "    </tr>\n",
       "  </thead>\n",
       "  <tbody>\n",
       "    <tr>\n",
       "      <th>0</th>\n",
       "      <td>CanESM5</td>\n",
       "      <td>0.4255</td>\n",
       "      <td>0.4634</td>\n",
       "    </tr>\n",
       "    <tr>\n",
       "      <th>1</th>\n",
       "      <td>CESM2</td>\n",
       "      <td>0.3978</td>\n",
       "      <td>0.3548</td>\n",
       "    </tr>\n",
       "    <tr>\n",
       "      <th>2</th>\n",
       "      <td>CNRM-CM6-1</td>\n",
       "      <td>0.2733</td>\n",
       "      <td>0.2386</td>\n",
       "    </tr>\n",
       "    <tr>\n",
       "      <th>3</th>\n",
       "      <td>E3SMv1</td>\n",
       "      <td>0.0554</td>\n",
       "      <td>0.0594</td>\n",
       "    </tr>\n",
       "    <tr>\n",
       "      <th>4</th>\n",
       "      <td>EC-EARTH3</td>\n",
       "      <td>0.3365</td>\n",
       "      <td>0.3480</td>\n",
       "    </tr>\n",
       "    <tr>\n",
       "      <th>5</th>\n",
       "      <td>ECHAM6.3_AWI</td>\n",
       "      <td>0.0132</td>\n",
       "      <td>0.0099</td>\n",
       "    </tr>\n",
       "    <tr>\n",
       "      <th>6</th>\n",
       "      <td>FGOALS-f3-L</td>\n",
       "      <td>0.2621</td>\n",
       "      <td>0.1420</td>\n",
       "    </tr>\n",
       "    <tr>\n",
       "      <th>7</th>\n",
       "      <td>HadGEM3-GC31-LL</td>\n",
       "      <td>0.3018</td>\n",
       "      <td>0.3276</td>\n",
       "    </tr>\n",
       "    <tr>\n",
       "      <th>8</th>\n",
       "      <td>HadGEM3-GC31-MM</td>\n",
       "      <td>0.3616</td>\n",
       "      <td>0.3474</td>\n",
       "    </tr>\n",
       "    <tr>\n",
       "      <th>9</th>\n",
       "      <td>IPSL-CM6A-LR</td>\n",
       "      <td>0.3099</td>\n",
       "      <td>0.2262</td>\n",
       "    </tr>\n",
       "    <tr>\n",
       "      <th>10</th>\n",
       "      <td>MIROC6</td>\n",
       "      <td>0.2469</td>\n",
       "      <td>0.3547</td>\n",
       "    </tr>\n",
       "    <tr>\n",
       "      <th>11</th>\n",
       "      <td>NorESM2-LM</td>\n",
       "      <td>0.3354</td>\n",
       "      <td>0.3837</td>\n",
       "    </tr>\n",
       "    <tr>\n",
       "      <th>12</th>\n",
       "      <td>OpenIFS-159</td>\n",
       "      <td>0.3636</td>\n",
       "      <td>0.3588</td>\n",
       "    </tr>\n",
       "    <tr>\n",
       "      <th>13</th>\n",
       "      <td>OpenIFS-511</td>\n",
       "      <td>0.2690</td>\n",
       "      <td>0.3391</td>\n",
       "    </tr>\n",
       "    <tr>\n",
       "      <th>14</th>\n",
       "      <td>CESM1-WACCM-SC</td>\n",
       "      <td>0.1352</td>\n",
       "      <td>0.0308</td>\n",
       "    </tr>\n",
       "  </tbody>\n",
       "</table>\n",
       "</div>"
      ],
      "text/plain": [
       "              Model  NH Feedback (DJF)  SH Feedback (JAS)\n",
       "0           CanESM5             0.4255             0.4634\n",
       "1             CESM2             0.3978             0.3548\n",
       "2        CNRM-CM6-1             0.2733             0.2386\n",
       "3            E3SMv1             0.0554             0.0594\n",
       "4         EC-EARTH3             0.3365             0.3480\n",
       "5      ECHAM6.3_AWI             0.0132             0.0099\n",
       "6       FGOALS-f3-L             0.2621             0.1420\n",
       "7   HadGEM3-GC31-LL             0.3018             0.3276\n",
       "8   HadGEM3-GC31-MM             0.3616             0.3474\n",
       "9      IPSL-CM6A-LR             0.3099             0.2262\n",
       "10           MIROC6             0.2469             0.3547\n",
       "11       NorESM2-LM             0.3354             0.3837\n",
       "12      OpenIFS-159             0.3636             0.3588\n",
       "13      OpenIFS-511             0.2690             0.3391\n",
       "14   CESM1-WACCM-SC             0.1352             0.0308"
      ]
     },
     "execution_count": 20,
     "metadata": {},
     "output_type": "execute_result"
    }
   ],
   "source": [
    "import pandas as pd\n",
    "\n",
    "# Shortcuts for the models\n",
    "model_shortcut = ['can', 'cesm2', 'cnrm', 'e3sm', 'ecearth', 'awi', 'fgoals', 'hadll', 'hadmm',\n",
    "                  'ipsl', 'miroc', 'nor', 't159', 't511', 'cesm1']\n",
    "\n",
    "# Initialize empty lists to store the full model names and feedbacks\n",
    "model_list = []\n",
    "efp_djf = []\n",
    "efp_jas = []\n",
    "\n",
    "# Populate the lists using the shortcuts\n",
    "for shortcut in model_shortcut:\n",
    "    model_list.append(globals()[f'model_{shortcut}'])\n",
    "    efp_djf.append(globals()[f'{shortcut}_efp'])\n",
    "    efp_jas.append(globals()[f'{shortcut}_efp_south'])\n",
    "\n",
    "# Create the DataFrame\n",
    "data = {\n",
    "    'Model': model_list,\n",
    "    'NH Feedback (DJF)': efp_djf,\n",
    "    'SH Feedback (JAS)': efp_jas\n",
    "}\n",
    "\n",
    "df = pd.DataFrame(data)\n",
    "\n",
    "df"
   ]
  },
  {
   "cell_type": "code",
   "execution_count": null,
   "metadata": {},
   "outputs": [],
   "source": []
  }
 ],
 "metadata": {
  "kernelspec": {
   "display_name": "eddy",
   "language": "python",
   "name": "python3"
  },
  "language_info": {
   "codemirror_mode": {
    "name": "ipython",
    "version": 3
   },
   "file_extension": ".py",
   "mimetype": "text/x-python",
   "name": "python",
   "nbconvert_exporter": "python",
   "pygments_lexer": "ipython3",
   "version": "3.12.0"
  }
 },
 "nbformat": 4,
 "nbformat_minor": 2
}
