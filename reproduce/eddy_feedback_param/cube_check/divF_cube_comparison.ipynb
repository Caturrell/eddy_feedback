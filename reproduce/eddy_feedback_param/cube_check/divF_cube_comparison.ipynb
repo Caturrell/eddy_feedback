{
 "cells": [
  {
   "cell_type": "code",
   "execution_count": 84,
   "metadata": {},
   "outputs": [],
   "source": [
    "import xarray as xr\n",
    "import numpy as np\n",
    "import matplotlib.pyplot as plt\n",
    "import iris"
   ]
  },
  {
   "cell_type": "markdown",
   "metadata": {},
   "source": [
    "# Import data"
   ]
  },
  {
   "cell_type": "code",
   "execution_count": 85,
   "metadata": {},
   "outputs": [],
   "source": [
    "## cube\n",
    "\n",
    "fdir='/badc/srip/data/zonal/common_grid/era_interim/'\n",
    "fpath='TEM_monthly_2000_01.nc'\n",
    "\n",
    "# Fy: Want description primitive eqn: wavenumber \"\" (EPF_phi_pr)\n",
    "standard_name='northward_eliassen_palm_flux_in_air'\n",
    "con=iris.Constraint(standard_name)        \n",
    "fy_fields=iris.load(fdir+fpath,con)\n",
    "fy_fields=fy_fields.extract(iris.AttributeConstraint(wavenumber=\"\"))\n",
    "fy_fields=fy_fields.extract(iris.AttributeConstraint(description=\"Uses primitive equation\"))\n",
    "fy_fields=fy_fields[0]\n",
    "if fy_fields.coords('air_pressure'): fy_fields.coord('air_pressure').rename('pressure') \n",
    "fy_fields = fy_fields[0]"
   ]
  },
  {
   "cell_type": "code",
   "execution_count": 86,
   "metadata": {},
   "outputs": [],
   "source": [
    "## xarray\n",
    "\n",
    "ds = xr.open_mfdataset(fdir+fpath)\n",
    "Fphi = ds.EPF_phi_pr[0]"
   ]
  },
  {
   "cell_type": "code",
   "execution_count": 87,
   "metadata": {},
   "outputs": [],
   "source": [
    "np.testing.assert_allclose(Fphi.values, fy_fields.data, rtol=1e-7)"
   ]
  },
  {
   "cell_type": "code",
   "execution_count": 88,
   "metadata": {},
   "outputs": [],
   "source": [
    "# Constants\n",
    "p0 = 1e3\n",
    "a = 6.371e6"
   ]
  },
  {
   "cell_type": "markdown",
   "metadata": {},
   "source": [
    "# Scale pressure coordinates"
   ]
  },
  {
   "cell_type": "code",
   "execution_count": 89,
   "metadata": {},
   "outputs": [],
   "source": [
    "## cube\n",
    "\n",
    "# define dimensions\n",
    "pressure = fy_fields.coord('pressure').points\n",
    "latitude = fy_fields.coord('latitude').points\n",
    "\n",
    "# Convert from log pressure to pressure coordinates\n",
    "plev_ratio = np.repeat(pressure/p0, latitude.size).reshape((pressure.size,latitude.size))\n",
    "fy_fields = iris.analysis.maths.multiply(fy_fields, plev_ratio)"
   ]
  },
  {
   "cell_type": "code",
   "execution_count": 90,
   "metadata": {},
   "outputs": [],
   "source": [
    "## xarray\n",
    "\n",
    "# define dimensions\n",
    "lat = ds.latitude.values\n",
    "level = ds.pressure.values\n",
    "\n",
    "# define and calculate ratio\n",
    "p_ratio = np.repeat(level/p0, lat.size).reshape((level.size,lat.size))\n",
    "Fphi = ds.EPF_phi_pr[0] * p_ratio                                       # [m3 s-2]"
   ]
  },
  {
   "cell_type": "code",
   "execution_count": 91,
   "metadata": {},
   "outputs": [],
   "source": [
    "np.testing.assert_allclose(Fphi.values, fy_fields.data, rtol=1e-7)"
   ]
  },
  {
   "cell_type": "markdown",
   "metadata": {},
   "source": [
    "# Calculate derivative"
   ]
  },
  {
   "cell_type": "code",
   "execution_count": 92,
   "metadata": {},
   "outputs": [],
   "source": [
    "## cube\n",
    "\n",
    "# Differentiate wrt φ\n",
    "deriv1_cube=fy_fields.copy()\n",
    "\n",
    "latsR = np.deg2rad(latitude)\n",
    "# latsR= fy_fields.coord('latitude').points*2*np.pi/360\t# in radians\n",
    "\n",
    "cos_lats=np.cos(latsR)\n",
    "Fcoslat=iris.analysis.maths.multiply(fy_fields,cos_lats)\n",
    "deriv1_cube.data=np.gradient(Fcoslat.data,latsR,axis=1) # central difference except end points where forwards/backwards difference"
   ]
  },
  {
   "cell_type": "code",
   "execution_count": 93,
   "metadata": {},
   "outputs": [],
   "source": [
    "## xarray\n",
    "\n",
    "# convert lat to radians take np.cos and multiply by Fphi (inside derivative)\n",
    "lat_rads = np.deg2rad(lat)\n",
    "coslat = np.cos( lat_rads )  \n",
    "F_coslat = Fphi * coslat\n",
    "\n",
    "# calc derivative and convert lat dimension to radians\n",
    "F_coslat['latitude'] = lat_rads\n",
    "deriv1 = F_coslat.differentiate('latitude')                             # [m2 s-2]"
   ]
  },
  {
   "cell_type": "code",
   "execution_count": 94,
   "metadata": {},
   "outputs": [],
   "source": [
    "np.testing.assert_allclose(deriv1.values, deriv1_cube.data, rtol=1e-7)"
   ]
  },
  {
   "cell_type": "markdown",
   "metadata": {},
   "source": [
    "### Multiply by 1/acos(φ)"
   ]
  },
  {
   "cell_type": "code",
   "execution_count": 95,
   "metadata": {},
   "outputs": [],
   "source": [
    "## cube\n",
    "\n",
    "# Divide by a cos(φ)\n",
    "div_Fphi_cube=iris.analysis.maths.divide(deriv1_cube,cos_lats)\n",
    "div_Fphi_cube=iris.analysis.maths.divide(div_Fphi_cube,(a))"
   ]
  },
  {
   "cell_type": "code",
   "execution_count": 96,
   "metadata": {},
   "outputs": [],
   "source": [
    "## xarray\n",
    "\n",
    "# Divide by a cos(φ)\n",
    "div_Fphi = deriv1 / (a * coslat) "
   ]
  },
  {
   "cell_type": "code",
   "execution_count": 97,
   "metadata": {},
   "outputs": [],
   "source": [
    "np.testing.assert_allclose(div_Fphi.values, div_Fphi_cube.data, rtol=1e-6)"
   ]
  },
  {
   "cell_type": "markdown",
   "metadata": {},
   "source": [
    "# Create function"
   ]
  },
  {
   "cell_type": "code",
   "execution_count": 98,
   "metadata": {},
   "outputs": [],
   "source": [
    "def div_Fphi(Fphi, apply_scaling=True):\n",
    "    \n",
    "    \"\"\"\n",
    "        Calculate divergence of northward component\n",
    "        of EP flux, F_phi. Including an optional \n",
    "        scaling from log-pressure to pressure coords.\n",
    "        \n",
    "        ----------------------------------------------\n",
    "        \n",
    "        Input: xr.DataArray of epfy/Fy/Fphi \n",
    "        \n",
    "        Out: xr.DataArray Div_Fphi\n",
    "    \"\"\"\n",
    "    \n",
    "    # define constants\n",
    "    p0 = 1e3\n",
    "    a = 6.371e6\n",
    "    \n",
    "    # define dimensions\n",
    "    lat = ds.latitude.values\n",
    "    level = ds.pressure.values\n",
    "    \n",
    "    if apply_scaling:\n",
    "        # define and calculate ratio\n",
    "        p_ratio = np.repeat(level/p0, lat.size).reshape((level.size,lat.size))\n",
    "        Fphi = Fphi * p_ratio                                               # [m3 s-2]\n",
    "    \n",
    "    # convert lat to radians take np.cos and multiply by Fphi (inside derivative)\n",
    "    lat_rads = np.deg2rad(lat)\n",
    "    coslat = np.cos( lat_rads )  \n",
    "    F_coslat = Fphi * coslat\n",
    "\n",
    "    # calc derivative and convert lat dimension to radians\n",
    "    F_coslat['latitude'] = lat_rads\n",
    "    deriv1 = F_coslat.differentiate('latitude')                             # [m2 s-2]\n",
    "    \n",
    "    # Divide by a cos(φ)\n",
    "    div_Fphi = deriv1 / (a * coslat)                                        # [m2 s-2]\n",
    "    \n",
    "    return div_Fphi"
   ]
  },
  {
   "cell_type": "code",
   "execution_count": 99,
   "metadata": {},
   "outputs": [],
   "source": [
    "divFy = DivFphi(ds.EPF_phi_pr[0])"
   ]
  },
  {
   "cell_type": "code",
   "execution_count": 100,
   "metadata": {},
   "outputs": [],
   "source": [
    "np.testing.assert_allclose(divFy.values, div_Fphi_cube.data, rtol=1e-6)"
   ]
  },
  {
   "cell_type": "code",
   "execution_count": null,
   "metadata": {},
   "outputs": [],
   "source": []
  }
 ],
 "metadata": {
  "kernelspec": {
   "display_name": "eddy",
   "language": "python",
   "name": "python3"
  },
  "language_info": {
   "codemirror_mode": {
    "name": "ipython",
    "version": 3
   },
   "file_extension": ".py",
   "mimetype": "text/x-python",
   "name": "python",
   "nbconvert_exporter": "python",
   "pygments_lexer": "ipython3",
   "version": "3.12.0"
  }
 },
 "nbformat": 4,
 "nbformat_minor": 2
}
